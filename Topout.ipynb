{
  "nbformat": 4,
  "nbformat_minor": 0,
  "metadata": {
    "kernelspec": {
      "name": "python3",
      "display_name": "Python 3"
    },
    "colab": {
      "provenance": [],
      "include_colab_link": true
    },
    "accelerator": "GPU"
  },
  "cells": [
    {
      "cell_type": "markdown",
      "metadata": {
        "id": "view-in-github",
        "colab_type": "text"
      },
      "source": [
        "<a href=\"https://colab.research.google.com/github/diwanliwe/topout/blob/master/Topout.ipynb\" target=\"_parent\"><img src=\"https://colab.research.google.com/assets/colab-badge.svg\" alt=\"Open In Colab\"/></a>"
      ]
    },
    {
      "cell_type": "code",
      "metadata": {
        "id": "7OAaXkVjCax9"
      },
      "source": [
        "from google.colab import drive\n",
        "drive.mount('/content/drive')"
      ],
      "execution_count": null,
      "outputs": []
    },
    {
      "cell_type": "code",
      "metadata": {
        "id": "Iw1QZOAoIcSF",
        "outputId": "ce757c93-f42c-4062-a2a1-9346226b2f1f",
        "colab": {
          "base_uri": "https://localhost:8080/",
          "height": 34
        }
      },
      "source": [
        "import os\n",
        "os.path.isfile(\"/content/drive/My Drive/ShapeData/tf_utils.py\")"
      ],
      "execution_count": null,
      "outputs": [
        {
          "output_type": "execute_result",
          "data": {
            "text/plain": [
              "True"
            ]
          },
          "metadata": {
            "tags": []
          },
          "execution_count": 2
        }
      ]
    },
    {
      "cell_type": "code",
      "metadata": {
        "id": "CZOTss5qCG0z",
        "outputId": "385a185e-50eb-40da-bf8a-9853ad429b71",
        "colab": {
          "base_uri": "https://localhost:8080/",
          "height": 80
        }
      },
      "source": [
        "import numpy as np\n",
        "from keras import layers\n",
        "from keras.layers import Input, Add, Dense, Activation, ZeroPadding2D, BatchNormalization, Flatten, Conv2D\n",
        "from keras.layers import AveragePooling2D, MaxPooling2D, Dropout, GlobalMaxPooling2D, GlobalAveragePooling2D\n",
        "from keras.models import Model\n",
        "from keras.preprocessing import image\n",
        "from keras.utils import layer_utils\n",
        "from keras.utils.data_utils import get_file\n",
        "from keras.applications.imagenet_utils import preprocess_input\n",
        "import pydot\n",
        "from IPython.display import SVG\n",
        "from keras.utils.vis_utils import model_to_dot\n",
        "from keras.utils import plot_model\n",
        "#from kt_utils import *\n",
        "from keras import optimizers\n",
        "\n",
        "import keras.backend as K\n",
        "from keras.models import Model\n",
        "K.set_image_data_format('channels_last')\n",
        "import matplotlib.pyplot as plt\n",
        "from matplotlib.pyplot import imshow\n",
        "import math\n",
        "import json\n",
        "import numpy as np\n",
        "from random import *\n",
        "import random as rnd\n",
        "import tensorflow as tf\n",
        "from tensorflow.python.framework import ops\n",
        "#from google.colab import files\n",
        "#uploaded = files.upload()\n",
        "#from tf_utils.py import load_dataset, random_mini_batches, convert_to_one_hot, predict"
      ],
      "execution_count": null,
      "outputs": [
        {
          "output_type": "stream",
          "text": [
            "Using TensorFlow backend.\n"
          ],
          "name": "stderr"
        },
        {
          "output_type": "display_data",
          "data": {
            "text/html": [
              "<p style=\"color: red;\">\n",
              "The default version of TensorFlow in Colab will soon switch to TensorFlow 2.x.<br>\n",
              "We recommend you <a href=\"https://www.tensorflow.org/guide/migrate\" target=\"_blank\">upgrade</a> now \n",
              "or ensure your notebook will continue to use TensorFlow 1.x via the <code>%tensorflow_version 1.x</code> magic:\n",
              "<a href=\"https://colab.research.google.com/notebooks/tensorflow_version.ipynb\" target=\"_blank\">more info</a>.</p>\n"
            ],
            "text/plain": [
              "<IPython.core.display.HTML object>"
            ]
          },
          "metadata": {
            "tags": []
          }
        }
      ]
    },
    {
      "cell_type": "code",
      "metadata": {
        "id": "WtSn7-i0XHq9"
      },
      "source": [
        "import h5py\n",
        "import numpy as np\n",
        "import tensorflow as tf\n",
        "import math\n",
        "\n",
        "def load_dataset():\n",
        "    train_dataset = h5py.File('datasets/train_signs.h5', \"r\")\n",
        "    train_set_x_orig = np.array(train_dataset[\"train_set_x\"][:]) # your train set features\n",
        "    train_set_y_orig = np.array(train_dataset[\"train_set_y\"][:]) # your train set labels\n",
        "\n",
        "    test_dataset = h5py.File('datasets/test_signs.h5', \"r\")\n",
        "    test_set_x_orig = np.array(test_dataset[\"test_set_x\"][:]) # your test set features\n",
        "    test_set_y_orig = np.array(test_dataset[\"test_set_y\"][:]) # your test set labels\n",
        "\n",
        "    classes = np.array(test_dataset[\"list_classes\"][:]) # the list of classes\n",
        "\n",
        "    train_set_y_orig = train_set_y_orig.reshape((1, train_set_y_orig.shape[0]))\n",
        "    test_set_y_orig = test_set_y_orig.reshape((1, test_set_y_orig.shape[0]))\n",
        "\n",
        "    return train_set_x_orig, train_set_y_orig, test_set_x_orig, test_set_y_orig, classes\n",
        "\n",
        "\n",
        "def random_mini_batches(X, Y, mini_batch_size = 64, seed = 0):\n",
        "    \"\"\"\n",
        "    Creates a list of random minibatches from (X, Y)\n",
        "\n",
        "    Arguments:\n",
        "    X -- input data, of shape (input size, number of examples)\n",
        "    Y -- true \"label\" vector (containing 0 if cat, 1 if non-cat), of shape (1, number of examples)\n",
        "    mini_batch_size - size of the mini-batches, integer\n",
        "    seed -- this is only for the purpose of grading, so that you're \"random minibatches are the same as ours.\n",
        "\n",
        "    Returns:\n",
        "    mini_batches -- list of synchronous (mini_batch_X, mini_batch_Y)\n",
        "    \"\"\"\n",
        "\n",
        "    m = X.shape[1]                  # number of training examples\n",
        "    mini_batches = []\n",
        "    np.random.seed(seed)\n",
        "\n",
        "    # Step 1: Shuffle (X, Y)\n",
        "    permutation = list(np.random.permutation(m))\n",
        "    shuffled_X = X[:, permutation]\n",
        "    shuffled_Y = Y[:, permutation].reshape((Y.shape[0],m))\n",
        "\n",
        "    # Step 2: Partition (shuffled_X, shuffled_Y). Minus the end case.\n",
        "    num_complete_minibatches = math.floor(m/mini_batch_size) # number of mini batches of size mini_batch_size in your partitionning\n",
        "    for k in range(0, num_complete_minibatches):\n",
        "        mini_batch_X = shuffled_X[:, k * mini_batch_size : k * mini_batch_size + mini_batch_size]\n",
        "        mini_batch_Y = shuffled_Y[:, k * mini_batch_size : k * mini_batch_size + mini_batch_size]\n",
        "        mini_batch = (mini_batch_X, mini_batch_Y)\n",
        "        mini_batches.append(mini_batch)\n",
        "\n",
        "    # Handling the end case (last mini-batch < mini_batch_size)\n",
        "    if m % mini_batch_size != 0:\n",
        "        mini_batch_X = shuffled_X[:, num_complete_minibatches * mini_batch_size : m]\n",
        "        mini_batch_Y = shuffled_Y[:, num_complete_minibatches * mini_batch_size : m]\n",
        "        mini_batch = (mini_batch_X, mini_batch_Y)\n",
        "        mini_batches.append(mini_batch)\n",
        "\n",
        "    return mini_batches\n",
        "\n",
        "def convert_to_one_hot(Y, C):\n",
        "    Y = np.eye(C)[Y.reshape(-1)].T\n",
        "    return Y\n",
        "\n",
        "\n",
        "def predict(X, parameters):\n",
        "\n",
        "    W1 = tf.convert_to_tensor(parameters[\"W1\"])\n",
        "    b1 = tf.convert_to_tensor(parameters[\"b1\"])\n",
        "    W2 = tf.convert_to_tensor(parameters[\"W2\"])\n",
        "    b2 = tf.convert_to_tensor(parameters[\"b2\"])\n",
        "    W3 = tf.convert_to_tensor(parameters[\"W3\"])\n",
        "    b3 = tf.convert_to_tensor(parameters[\"b3\"])\n",
        "\n",
        "    params = {\"W1\": W1,\n",
        "              \"b1\": b1,\n",
        "              \"W2\": W2,\n",
        "              \"b2\": b2,\n",
        "              \"W3\": W3,\n",
        "              \"b3\": b3}\n",
        "\n",
        "    x = tf.placeholder(\"float\", [12288, 1])\n",
        "\n",
        "    z3 = forward_propagation_for_predict(x, params)\n",
        "    p = tf.argmax(z3)\n",
        "\n",
        "    sess = tf.Session()\n",
        "    prediction = sess.run(p, feed_dict = {x: X})\n",
        "\n",
        "    return prediction\n",
        "\n",
        "def forward_propagation_for_predict(X, parameters):\n",
        "    \"\"\"\n",
        "    Implements the forward propagation for the model: LINEAR -> RELU -> LINEAR -> RELU -> LINEAR -> SOFTMAX\n",
        "\n",
        "    Arguments:\n",
        "    X -- input dataset placeholder, of shape (input size, number of examples)\n",
        "    parameters -- python dictionary containing your parameters \"W1\", \"b1\", \"W2\", \"b2\", \"W3\", \"b3\"\n",
        "                  the shapes are given in initialize_parameters\n",
        "    Returns:\n",
        "    Z3 -- the output of the last LINEAR unit\n",
        "    \"\"\"\n",
        "\n",
        "    # Retrieve the parameters from the dictionary \"parameters\"\n",
        "    W1 = parameters['W1']\n",
        "    b1 = parameters['b1']\n",
        "    W2 = parameters['W2']\n",
        "    b2 = parameters['b2']\n",
        "    W3 = parameters['W3']\n",
        "    b3 = parameters['b3']\n",
        "                                                           # Numpy Equivalents:\n",
        "    Z1 = tf.add(tf.matmul(W1, X), b1)                      # Z1 = np.dot(W1, X) + b1\n",
        "    A1 = tf.nn.relu(Z1)                                    # A1 = relu(Z1)\n",
        "    Z2 = tf.add(tf.matmul(W2, A1), b2)                     # Z2 = np.dot(W2, a1) + b2\n",
        "    A2 = tf.nn.relu(Z2)                                    # A2 = relu(Z2)\n",
        "    Z3 = tf.add(tf.matmul(W3, A2), b3)                     # Z3 = np.dot(W3,Z2) + b3\n",
        "\n",
        "    return Z3"
      ],
      "execution_count": null,
      "outputs": []
    },
    {
      "cell_type": "markdown",
      "metadata": {
        "id": "OB5DinYzCG06"
      },
      "source": [
        "## Raw Data from Moon Board sample by Human\n",
        "\n",
        "#### Moon17 - Type Matrix\n",
        "* 0 : Jug\n",
        "* 1 : Micro Jug\n",
        "* 2 : Pinch\n",
        "* 3 : Pocket\n",
        "* 4 : Crimp\n",
        "* 5 : Slopper\n",
        "\n",
        "#### MoonOr17 - Orientation Matrix\n",
        "* 0 : No orientation\n",
        "* 1 : 0 degree\n",
        "* 2 : 22.5 degree\n",
        "* 3 : 45 degree\n",
        "* 4 : 67.5 degree\n",
        "* 5 : 90 degree\n",
        "* 6 : 112.5 degree\n",
        "* 7 : 135 degree\n",
        "* 8 : 157.5 degree\n",
        "\n",
        "#### Moontext17 - Texture Matrix\n",
        "* 0 : Resine\n",
        "* 1 : Wood\n"
      ]
    },
    {
      "cell_type": "code",
      "metadata": {
        "id": "LKAVGm-fCG07"
      },
      "source": [
        "Moon17=np.array([[1, 4, 4, 1, 3, 1, 1, 4, 1, 2, 2],\n",
        "                 [1, 0, 4, 0, 4, 1, 4, 4, 0, 1, 1],\n",
        "                 [0, 0, 4, 4, 0, 4, 4, 3, 3, 4, 4],\n",
        "                 [1, 0, 0, 0, 3, 0, 2, 1, 4, 4, 5],\n",
        "                 [0, 4, 4, 1, 5, 0, 5, 0, 4, 4, 1],\n",
        "                 [0, 4, 4, 4, 4, 1, 2, 4, 4, 4, 4],\n",
        "                 [2, 1, 0, 3, 0, 2, 3, 3, 0, 2, 2],\n",
        "                 [1, 2, 4, 5, 0, 0, 2, 1, 0, 4, 4],\n",
        "                 [4, 2, 4, 0, 4, 0, 2, 2, 4, 0, 2],\n",
        "                 [4, 2, 0, 0, 5, 4, 0, 0, 2, 4, 4],\n",
        "                 [1, 2, 4, 4, 2, 4, 0, 2, 4, 0, 0],\n",
        "                 [1, 2, 1, 2, 1, 2, 1, 4, 2, 2, 4],\n",
        "                 [4, 0, 0, 4, 0, 1, 2, 4, 1, 2, 1],\n",
        "                 [0, 2, 1, 4, 1, 4, 4, 1, 4, 5, 4],\n",
        "                 [4, 4, 4, 0, 4, 2, 4, 4, 2, 2, 0],\n",
        "                 [4, 4, 0, 1, 1, 4, 4, 4, 1, 0, 4],\n",
        "                 [5, 4, 4, 1, 5, 1, 1, 4, 4, 5, 4],\n",
        "                 [0, 0, 2, 0, 1, 0, 4, 0, 2, 0, 4]])\n",
        "Moon17 = Moon17+1\n",
        "\n",
        "MoonOr17= np.array([[6,4,5,5,5,5,5,4,6,5,5],\n",
        "                    [5,7,1,8,5,5,5,5,4,3,5],\n",
        "                    [1,6,1,4,5,4,1,4,4,2,5],\n",
        "                    [4,0,0,8,6,1,1,4,2,1,2],\n",
        "                    [8,8,1,7,1,1,1,3,4,2,2],\n",
        "                    [1,1,8,1,1,8,8,1,2,1,1],\n",
        "                    [8,1,1,0,1,1,0,0,1,2,2],\n",
        "                    [8,8,2,1,2,1,2,2,2,1,1],\n",
        "                    [1,1,8,8,8,1,2,1,2,2,2],\n",
        "                    [8,8,1,8,1,1,2,0,2,2,2],\n",
        "                    [2,7,1,8,2,1,8,8,1,2,1],\n",
        "                    [1,8,6,8,1,1,1,1,1,2,1],\n",
        "                    [1,1,8,1,1,1,2,1,4,2,2],\n",
        "                    [1,1,8,1,2,1,1,1,1,1,2],\n",
        "                    [1,8,8,1,8,2,2,1,1,2,0],\n",
        "                    [2,1,2,8,1,1,8,2,8,1,2],\n",
        "                    [7,1,8,1,1,1,1,1,1,1,2],\n",
        "                    [8,1,1,1,1,1,1,1,1,1,1]])\n",
        "\n",
        "MoonTex17= np.array([[0,0,0,0,0,0,0,0,0,0,0],\n",
        "                    [0,0,0,0,0,0,0,0,0,0,0],\n",
        "                    [0,0,0,0,0,0,0,0,0,0,0],\n",
        "                    [0,0,0,0,0,0,0,0,0,0,0],\n",
        "                    [0,1,0,0,1,0,1,0,0,1,0],\n",
        "                    [0,0,1,0,0,0,0,0,1,0,0],\n",
        "                    [1,0,0,1,0,0,0,1,0,0,1],\n",
        "                    [0,0,0,0,0,0,0,0,0,0,0],\n",
        "                    [0,0,1,0,1,0,1,0,1,0,0],\n",
        "                    [1,0,0,0,0,0,0,0,0,0,1],\n",
        "                    [0,0,1,0,0,0,0,0,1,0,0],\n",
        "                    [0,1,0,0,1,0,1,0,0,1,0],\n",
        "                    [0,0,0,1,0,0,0,1,0,0,0],\n",
        "                    [0,0,0,0,0,0,0,0,0,0,0],\n",
        "                    [0,1,0,0,1,0,1,0,0,1,0],\n",
        "                    [0,0,0,1,0,0,0,1,0,0,0],\n",
        "                    [0,0,0,0,0,0,0,0,0,0,0],\n",
        "                    [0,0,1,0,0,0,0,0,1,0,0]])\n"
      ],
      "execution_count": null,
      "outputs": []
    },
    {
      "cell_type": "markdown",
      "metadata": {
        "id": "edRi7l46CG0-"
      },
      "source": [
        "Grade need to be symetric\n",
        "\n",
        "\n",
        "Miror take a Problem matrix M (Role/Type/orientation) and return the miror Problem matrix"
      ]
    },
    {
      "cell_type": "code",
      "metadata": {
        "id": "MKZJnqxaCG0-"
      },
      "source": [
        "def Miror(M):\n",
        "    (n,m,k) = M.shape\n",
        "    Miror = np.zeros((n,m,k))\n",
        "    for j in range(m):\n",
        "        for i in range(n):\n",
        "            Miror[i][j] = M[i][m-j-1]\n",
        "            Orientation = M[i][j][2]\n",
        "            if Orientation == 2 :\n",
        "                Miror[a][b][2] = 8/8\n",
        "            if Orientation == 3 :\n",
        "                Miror[a][b][2] = 7/8\n",
        "            if Orientation == 4 :\n",
        "                Miror[a][b][2] = 6/8\n",
        "            if Orientation == 6 :\n",
        "                Miror[a][b][2] = 4/8\n",
        "            if Orientation == 7 :\n",
        "                Miror[a][b][2] = 3/8\n",
        "            if Orientation == 8 :\n",
        "                Miror[a][b][2] = 2/8\n",
        "    return Miror"
      ],
      "execution_count": null,
      "outputs": []
    },
    {
      "cell_type": "markdown",
      "metadata": {
        "id": "SIAcGfw5CG1B"
      },
      "source": [
        "Import data from Json to Python list\n",
        "\n",
        "S4: 4 grades Scale (6A&-/6B/6C/7A&+)\n",
        "\n",
        "S5: 5 grades Scale (6A&-/6B/6C/7A/7B&+)\n",
        "\n",
        "Distrib count the number of problems for each Grade\n"
      ]
    },
    {
      "cell_type": "code",
      "metadata": {
        "id": "avZO1D7dCG1C",
        "outputId": "ae58c986-653a-42ef-cda4-073d7faa2cda",
        "colab": {
          "base_uri": "https://localhost:8080/",
          "height": 51
        }
      },
      "source": [
        "# 5 category (6a&-/6b/6c/7a/7b&+)\n",
        "def CreateDataS5(file):\n",
        "    jsonFile = open(file, \"r\") # Open the JSON file for reading\n",
        "    data = json.load(jsonFile) # Read the JSON into the buffer\n",
        "    data = data[\"Data\"]\n",
        "    jsonFile.close() # Close the JSON file\n",
        "\n",
        "    n = len(data)\n",
        "    Lx=[]\n",
        "    #Lr=[]\n",
        "    Ly=[]\n",
        "    for i in range(n):\n",
        "        p = data[i]\n",
        "        x = np.zeros((18, 11), dtype=np.uint8)\n",
        "        if p['Grade'] != '8B' and p[\"Relief\"] != '25' and p[\"Repeats\"]>-1:\n",
        "            for m in p[\"Moves\"]:\n",
        "                if m['IsStart']:\n",
        "                    x[m['Y']-1][m['X']-1]=1\n",
        "                elif m['IsEnd']:\n",
        "                    x[m['Y']-1][m['X']-1]=3\n",
        "                else:\n",
        "                    x[m['Y']-1][m['X']-1]=2\n",
        "            g = p['Grade']\n",
        "            y = 4\n",
        "            if g == '6A' or g =='6A+':\n",
        "                y = 0\n",
        "            elif g == '6B' or g =='6B+':\n",
        "                y = 1\n",
        "            elif g =='6C' or g =='6C+':\n",
        "                y = 2\n",
        "            elif g =='7A' or g =='7A+':\n",
        "                y = 3\n",
        "            Lx += [x]\n",
        "            Ly += [y]\n",
        "            acc=0\n",
        "            \"\"\"\n",
        "            for a in range(18):\n",
        "                for b in range(11):\n",
        "                    if x[a][b]==wtf[a][b]:\n",
        "                        acc +=1\n",
        "            if acc ==198:\n",
        "                print(p)\n",
        "            #Lr += [p[\"Relief\"]]\n",
        "            #\"\"\"\n",
        "    return (Lx,Ly)\n",
        "\n",
        "def CreateDatamaxS5(file):\n",
        "    jsonFile = open(file, \"r\") # Open the JSON file for reading\n",
        "    data = json.load(jsonFile) # Read the JSON into the buffer\n",
        "    data = data[\"Data\"]\n",
        "    jsonFile.close() # Close the JSON file\n",
        "\n",
        "    n = len(data)\n",
        "    Lx=[]\n",
        "    #Lr=[]\n",
        "    Ly=[]\n",
        "    for i in range(n):\n",
        "        p = data[i]\n",
        "        x = np.zeros((18, 11), dtype=np.uint8)\n",
        "        if p['Grade'] != '8B' and p[\"Relief\"] != '25' and p[\"Repeats\"]>-1:\n",
        "            for m in p[\"Moves\"]:\n",
        "                if m['IsStart']:\n",
        "                    x[m['Y']-1][m['X']-1]=1\n",
        "                elif m['IsEnd']:\n",
        "                    x[m['Y']-1][m['X']-1]=3\n",
        "                else:\n",
        "                    x[m['Y']-1][m['X']-1]=2\n",
        "            g = p['Grade']\n",
        "            y = 4\n",
        "            if g == '6A' or g =='6A+':\n",
        "                y = 0\n",
        "            elif g == '6B' or g =='6B+':\n",
        "                y = 1\n",
        "            elif g =='6C' or g =='6C+':\n",
        "                y = 2\n",
        "            elif g =='7A' or g =='7A+':\n",
        "                y = 3\n",
        "            if (y == 0 and p[\"Repeats\"]>27) or (y == 1 and p[\"Repeats\"]>15) or (y == 2 and p[\"Repeats\"]>10) or  (y == 3 and p[\"Repeats\"]>8)  or (y == 4):\n",
        "              Lx += [x]\n",
        "              Ly += [y]\n",
        "              acc=0\n",
        "            \"\"\"\n",
        "            for a in range(18):\n",
        "                for b in range(11):\n",
        "                    if x[a][b]==wtf[a][b]:\n",
        "                        acc +=1\n",
        "            if acc ==198:\n",
        "                print(p)\n",
        "            #Lr += [p[\"Relief\"]]\n",
        "            #\"\"\"\n",
        "    return (Lx,Ly)\n",
        "\n",
        "# 4 category (6a&-/6b/6c/7a&+)\n",
        "def CreateDataS4(file):\n",
        "    jsonFile = open(file, \"r\") # Open the JSON file for reading\n",
        "    data = json.load(jsonFile) # Read the JSON into the buffer\n",
        "    data = data[\"Data\"]\n",
        "    jsonFile.close() # Close the JSON file\n",
        "\n",
        "    n = len(data)\n",
        "    Lx=[]\n",
        "    #Lr=[]\n",
        "    Ly=[]\n",
        "    for i in range(n):\n",
        "        p = data[i]\n",
        "        x = np.zeros((18, 11), dtype=np.uint8)\n",
        "        if p['Grade'] != '8B' and p['Grade'] != '8B' and p['Grade'] != '8A+' and p['Grade'] != '8A ' and p['Grade'] != '7C' and p['Grade'] != '7C+' and p['Grade'] != '7B' and p['Grade'] != '7B+' and p[\"Relief\"] != '25':\n",
        "            for m in p[\"Moves\"]:\n",
        "                if m['IsStart']:\n",
        "                    x[m['Y']-1][m['X']-1]=1\n",
        "                elif m['IsEnd']:\n",
        "                    x[m['Y']-1][m['X']-1]=3\n",
        "                else:\n",
        "                    x[m['Y']-1][m['X']-1]=2\n",
        "            g = p['Grade']\n",
        "            y = 3\n",
        "            if g == '6A' or g =='6A+':\n",
        "                y = 0\n",
        "            elif g == '6B' or g =='6B+':\n",
        "                y = 1\n",
        "            elif g =='6C' or g =='6C+':\n",
        "                y = 2\n",
        "            Lx += [x]\n",
        "            Ly += [y]\n",
        "            #Lr += [p[\"Relief\"]]\n",
        "    return (Lx,Ly)\n",
        "\n",
        "def Load_Data(Lx,Ly):\n",
        "    #n_x = len(Lx)\n",
        "    #n_y = len(Ly)\n",
        "    X_train = np.zeros((8192*2,2,18,11))\n",
        "    Y_train = np.zeros((1,8192*2), dtype=np.uint8)\n",
        "    X_test = np.zeros((2048*2,2,18,11))\n",
        "    Y_test = np.zeros((1,2048*2), dtype=np.uint8)\n",
        "    for i in range(8192*2):\n",
        "        X_train[i][0] = Lx[i]\n",
        "        X_train[i][0] = X_train[i][0]/3\n",
        "        X_train[i][1] = Moon17\n",
        "        X_train[i][1] = X_train[i][1]/5\n",
        "        Y_train[0][i] = int(Ly[i])\n",
        "    for i in range(2048*2):\n",
        "        X_test[i][0] = Lx[i+8192*2]\n",
        "        X_test[i][0] = X_test[i][0]/3\n",
        "        X_test[i][1] = Moon17\n",
        "        X_test[i][1] = X_test[i][1]/5\n",
        "        Y_test[0][i] = int(Ly[i+8192*2])\n",
        "    return (X_train,Y_train,X_test,Y_test)\n",
        "\n",
        "\n",
        "def Distrib(L):\n",
        "    compt = np.zeros((6))\n",
        "    n = len(L)\n",
        "    for i in range(n):\n",
        "        compt[L[i]] +=1\n",
        "    return compt\n",
        "\n",
        "Lx=[]\n",
        "Ly=[]\n",
        "Lr=[]\n",
        "for i in range(1,51):\n",
        "    a,b= CreateDataS5('/content/drive/My Drive/ShapeData/J'+str(i)+'.TXT')\n",
        "    Lx+=a\n",
        "    Ly+=b\n",
        "d = Distrib(Ly)\n",
        "print(d)\n",
        "print(np.sum(d))"
      ],
      "execution_count": null,
      "outputs": [
        {
          "output_type": "stream",
          "text": [
            "[5726. 5125. 4396. 4395. 2417.    0.]\n",
            "22059.0\n"
          ],
          "name": "stdout"
        }
      ]
    },
    {
      "cell_type": "markdown",
      "metadata": {
        "id": "GcvnP-jKCG1E"
      },
      "source": [
        "Load Data function from differente shape\n",
        "\n",
        "Load_Data_imgS5: Presence\n",
        "\n",
        "Load_Data_TypeS5: Presence/Type\n",
        "\n",
        "Load_Data_OrS5: Presence/Type/Orientation\n",
        "\n",
        "Load_Data_AllS5: Presence/Type/Orientation/Texture\n",
        "\n",
        "All Grades categorie have the same number of problems picked randomly from Data\n"
      ]
    },
    {
      "cell_type": "code",
      "metadata": {
        "id": "O5_-Vu43CG1F"
      },
      "source": [
        "def Load_Data_imgS5(n_train,n_test):\n",
        "    #create Data\n",
        "    Lx=[]\n",
        "    Ly=[]\n",
        "    for i in range(1,51):\n",
        "        a,b = CreateDataS5('J'+str(i)+'.TXT')\n",
        "        Lx+=a\n",
        "        Ly+=b\n",
        "    #create a list order by difficulty\n",
        "    n = len(Lx)\n",
        "    S = [[]]*5\n",
        "    for i in range (n):\n",
        "        S[Ly[i]] = S[Ly[i]] + [(Lx[i],Ly[i])]\n",
        "    for j in range(5):\n",
        "        rnd.shuffle(S[j])\n",
        "    #Create a shuffle data set with even distribution of difficulty\n",
        "    l = n_train+n_test\n",
        "    data = [[]]*(l*5)\n",
        "    for k in range(l):\n",
        "        data[k] = S[0][k]\n",
        "        data[k + l] = S[1][k]\n",
        "        data[k + 2*l] = S[2][k]\n",
        "        data[k + 3*l] = S[3][k]\n",
        "        data[k + 4*l] = S[4][k]\n",
        "    rnd.shuffle(data)\n",
        "    #Create Train and test set\n",
        "    X_train = np.zeros((5*n_train,18,11))\n",
        "    Y_train = np.zeros((1,5*n_train), dtype=np.uint8)\n",
        "    X_test = np.zeros((5*n_test,18,11))\n",
        "    Y_test = np.zeros((1,5*n_test), dtype=np.uint8)\n",
        "    for i in range(5*n_train):\n",
        "        X_train[i] = data[i][0]\n",
        "        X_train[i] = X_train[i]/3\n",
        "        Y_train[0][i] = int(data[i][1])\n",
        "    for i in range(5*n_test):\n",
        "        X_test[i] = data[i+5*n_train][0]\n",
        "        X_test[i] = X_test[i][0]/3\n",
        "        Y_test[0][i] = int(data[i+5*n_train][1])\n",
        "    return (X_train,Y_train,X_test,Y_test)\n",
        "\n",
        "def Load_Data_TypeS5(n_train,n_test):\n",
        "    #create Data\n",
        "    Lx=[]\n",
        "    Ly=[]\n",
        "    for i in range(1,51):\n",
        "        a,b = CreateDataS5('J'+str(i)+'.txt')\n",
        "        Lx+=a\n",
        "        Ly+=b\n",
        "    #create a list order by difficulty\n",
        "    n = len(Lx)\n",
        "    S = [[]]*5\n",
        "    for i in range (n):\n",
        "        S[Ly[i]] = S[Ly[i]] + [(Lx[i],Ly[i])]\n",
        "    for j in range(5):\n",
        "        rnd.shuffle(S[j])\n",
        "    #Create a shuffle data set with even distribution of difficulty\n",
        "    l = n_train+n_test\n",
        "    data = [[]]*(l*5)\n",
        "    for k in range(l):\n",
        "        data[k] = S[0][k]\n",
        "        data[k + l] = S[1][k]\n",
        "        data[k + 2*l] = S[2][k]\n",
        "        data[k + 3*l] = S[3][k]\n",
        "        data[k + 4*l] = S[4][k]\n",
        "    rnd.shuffle(data)\n",
        "    #Create Train and test set\n",
        "    X_train = np.zeros((5*n_train,18,11,2))\n",
        "    Y_train = np.zeros((1,5*n_train), dtype=np.uint8)\n",
        "    X_test = np.zeros((5*n_test,18,11,2))\n",
        "    Y_test = np.zeros((1,5*n_test), dtype=np.uint8)\n",
        "    for i in range(5*n_train):\n",
        "        pres = np.multiply(((data[i][0])>0),Moon17)\n",
        "        for k in range(18):\n",
        "            for l in range(11):\n",
        "                X_train[i][k][l][0] = (data[i][0][k][l])/3\n",
        "                X_train[i][k][l][1] = (pres[k][l])/8\n",
        "        Y_train[0][i] = int(data[i][1])\n",
        "    for i in range(5*n_test):\n",
        "        pres = np.multiply(((data[i+5*n_train][0])>0),Moon17)\n",
        "        for k in range(18):\n",
        "            for l in range(11):\n",
        "                X_test[i][k][l][0] = (data[i+5*n_train][0][k][l])/3\n",
        "                X_test[i][k][l][1] = (pres[k][l])/8\n",
        "        Y_test[0][i] = int(data[i+5*n_train][1])\n",
        "    return (X_train,Y_train,X_test,Y_test)\n",
        "\n",
        "def Load_Data_OrS5(n_train,n_test):\n",
        "    #create Data\n",
        "    Lx=[]\n",
        "    Ly=[]\n",
        "    for i in range(1,51):\n",
        "        a,b = CreateDataS5('J'+str(i)+'.txt')\n",
        "        Lx+=a\n",
        "        Ly+=b\n",
        "    #create a list order by difficulty\n",
        "    n = len(Lx)\n",
        "    S = [[]]*5\n",
        "    for i in range (n):\n",
        "        S[Ly[i]] = S[Ly[i]] + [(Lx[i],Ly[i])]\n",
        "    for j in range(5):\n",
        "        rnd.shuffle(S[j])\n",
        "    #Create a shuffle data set with even distribution of difficulty\n",
        "    l = n_train+n_test\n",
        "    data = [[]]*(l*5)\n",
        "    for k in range(l):\n",
        "        data[k] = S[0][k]\n",
        "        data[k + l] = S[1][k]\n",
        "        data[k + 2*l] = S[2][k]\n",
        "        data[k + 3*l] = S[3][k]\n",
        "        data[k + 4*l] = S[4][k]\n",
        "    rnd.shuffle(data)\n",
        "    #Create Train and test set\n",
        "    X_train = np.zeros((5*n_train,18,11,3))\n",
        "    Y_train = np.zeros((1,5*n_train), dtype=np.uint8)\n",
        "    X_test = np.zeros((5*n_test,18,11,3))\n",
        "    Y_test = np.zeros((1,5*n_test), dtype=np.uint8)\n",
        "    for i in range(5*n_train):\n",
        "        pres = np.multiply(((data[i][0])>0),Moon17)\n",
        "        orientation = np.multiply(((data[i][0])>0),MoonOr17)\n",
        "        for k in range(18):\n",
        "            for l in range(11):\n",
        "                X_train[i][k][l][0] = (data[i][0][k][l])/3\n",
        "                X_train[i][k][l][1] = (pres[k][l])/6\n",
        "                X_train[i][k][l][2] = (orientation[k][l])/8\n",
        "        Y_train[0][i] = int(data[i][1])\n",
        "    for i in range(5*n_test):\n",
        "        pres = np.multiply(((data[i+5*n_train][0])>0),Moon17)\n",
        "        orientation = np.multiply(((data[i+5*n_train][0])>0),MoonOr17)\n",
        "        for k in range(18):\n",
        "            for l in range(11):\n",
        "                X_test[i][k][l][0] = (data[i+5*n_train][0][k][l])/3\n",
        "                X_test[i][k][l][1] = (pres[k][l])/6\n",
        "                X_test[i][k][l][2] = (orientation[k][l])/8\n",
        "        Y_test[0][i] = int(data[i+5*n_train][1])\n",
        "    return (X_train,Y_train,X_test,Y_test)\n",
        "\n",
        "def Load_Data_AllS5(n_train,n_test):\n",
        "    #create Data\n",
        "    Lx=[]\n",
        "    Ly=[]\n",
        "    for i in range(1,51):\n",
        "        a,b = CreateDataS5('/content/drive/My Drive/ShapeData/J'+str(i)+'.TXT')\n",
        "        Lx+=a\n",
        "        Ly+=b\n",
        "    #create a list order by difficulty\n",
        "    n = len(Lx)\n",
        "    S = [[]]*5\n",
        "    for i in range (n):\n",
        "        S[Ly[i]] = S[Ly[i]] + [(Lx[i],Ly[i])]\n",
        "    for j in range(5):\n",
        "        rnd.shuffle(S[j])\n",
        "    #Create a shuffle data set with even distribution of difficulty\n",
        "    l = n_train+n_test\n",
        "    data = [[]]*(l*5)\n",
        "    for k in range(l):\n",
        "        data[k] = S[0][k]\n",
        "        data[k + l] = S[1][k]\n",
        "        data[k + 2*l] = S[2][k]\n",
        "        data[k + 3*l] = S[3][k]\n",
        "        data[k + 4*l] = S[4][k]\n",
        "    rnd.shuffle(data)\n",
        "    #Create Train and test set\n",
        "    X_train = np.zeros((5*n_train,18,11,4))\n",
        "    Y_train = np.zeros((1,5*n_train), dtype=np.uint8)\n",
        "    X_test = np.zeros((5*n_test,18,11,4))\n",
        "    Y_test = np.zeros((1,5*n_test), dtype=np.uint8)\n",
        "    for i in range(5*n_train):\n",
        "        pres = np.multiply(((data[i][0])>0),Moon17)\n",
        "        orientation = np.multiply(((data[i][0])>0),MoonOr17)\n",
        "        texture = np.multiply(((data[i][0])>0),MoonTex17)\n",
        "        for k in range(18):\n",
        "            for l in range(11):\n",
        "                X_train[i][k][l][0] = (data[i][0][k][l])/3\n",
        "                X_train[i][k][l][1] = (pres[k][l])/6\n",
        "                X_train[i][k][l][2] = (orientation[k][l])/8\n",
        "                X_train[i][k][l][3] = (texture[k][l])/2\n",
        "        Y_train[0][i] = int(data[i][1])\n",
        "    for i in range(5*n_test):\n",
        "        pres = np.multiply(((data[i+5*n_train][0])>0),Moon17)\n",
        "        orientation = np.multiply(((data[i+5*n_train][0])>0),MoonOr17)\n",
        "        texture = np.multiply(((data[i+5*n_train][0])>0),MoonTex17)\n",
        "        for k in range(18):\n",
        "            for l in range(11):\n",
        "                X_test[i][k][l][0] = (data[i+5*n_train][0][k][l])/3\n",
        "                X_test[i][k][l][1] = (pres[k][l])/6\n",
        "                X_test[i][k][l][2] = (orientation[k][l])/8\n",
        "                X_test[i][k][l][3] = (texture[k][l])/2\n",
        "        Y_test[0][i] = int(data[i+5*n_train][1])\n",
        "    return (X_train,Y_train,X_test,Y_test)\n",
        "\n",
        "def Load_Data_MaxAllS5(n_train,n_test):\n",
        "    #create Data\n",
        "    Lx=[]\n",
        "    Ly=[]\n",
        "    for i in range(1,51):\n",
        "        a,b = CreateDatamaxS5('/content/drive/My Drive/ShapeData/J'+str(i)+'.TXT')\n",
        "        Lx+=a\n",
        "        Ly+=b\n",
        "    #create a list order by difficulty\n",
        "    n = len(Lx)\n",
        "    S = [[]]*5\n",
        "    for i in range (n):\n",
        "        S[Ly[i]] = S[Ly[i]] + [(Lx[i],Ly[i])]\n",
        "    for j in range(5):\n",
        "        rnd.shuffle(S[j])\n",
        "    #Create a shuffle data set with even distribution of difficulty\n",
        "    l = n_train+n_test\n",
        "    data = [[]]*(l*5)\n",
        "    for k in range(l):\n",
        "        data[k] = S[0][k]\n",
        "        data[k + l] = S[1][k]\n",
        "        data[k + 2*l] = S[2][k]\n",
        "        data[k + 3*l] = S[3][k]\n",
        "        data[k + 4*l] = S[4][k]\n",
        "    rnd.shuffle(data)\n",
        "    #Create Train and test set\n",
        "    X_train = np.zeros((5*n_train,18,11,4))\n",
        "    Y_train = np.zeros((1,5*n_train), dtype=np.uint8)\n",
        "    X_test = np.zeros((5*n_test,18,11,4))\n",
        "    Y_test = np.zeros((1,5*n_test), dtype=np.uint8)\n",
        "    for i in range(5*n_train):\n",
        "        pres = np.multiply(((data[i][0])>0),Moon17)\n",
        "        orientation = np.multiply(((data[i][0])>0),MoonOr17)\n",
        "        texture = np.multiply(((data[i][0])>0),MoonTex17)\n",
        "        for k in range(18):\n",
        "            for l in range(11):\n",
        "                X_train[i][k][l][0] = (data[i][0][k][l])/3\n",
        "                X_train[i][k][l][1] = (pres[k][l])/6\n",
        "                X_train[i][k][l][2] = (orientation[k][l])/8\n",
        "                X_train[i][k][l][3] = (texture[k][l])/2\n",
        "        Y_train[0][i] = int(data[i][1])\n",
        "    for i in range(5*n_test):\n",
        "        pres = np.multiply(((data[i+5*n_train][0])>0),Moon17)\n",
        "        orientation = np.multiply(((data[i+5*n_train][0])>0),MoonOr17)\n",
        "        texture = np.multiply(((data[i+5*n_train][0])>0),MoonTex17)\n",
        "        for k in range(18):\n",
        "            for l in range(11):\n",
        "                X_test[i][k][l][0] = (data[i+5*n_train][0][k][l])/3\n",
        "                X_test[i][k][l][1] = (pres[k][l])/6\n",
        "                X_test[i][k][l][2] = (orientation[k][l])/8\n",
        "                X_test[i][k][l][3] = (texture[k][l])/2\n",
        "        Y_test[0][i] = int(data[i+5*n_train][1])\n",
        "    return (X_train,Y_train,X_test,Y_test)\n",
        "\n",
        "def Load_Data_TypeS4(n_train,n_test):\n",
        "    #create Data\n",
        "    Lx=[]\n",
        "    Ly=[]\n",
        "    for i in range(1,51):\n",
        "        a,b = CreateDataS4('J'+str(i)+'.txt')\n",
        "        Lx+=a\n",
        "        Ly+=b\n",
        "    #create a list order by difficulty\n",
        "    n = len(Lx)\n",
        "    S = [[]]*4\n",
        "    for i in range (n):\n",
        "        S[Ly[i]] = S[Ly[i]] + [(Lx[i],Ly[i])]\n",
        "    for j in range(4):\n",
        "        rnd.shuffle(S[j])\n",
        "    #Create a shuffle data set with even distribution of difficulty\n",
        "    l = n_train+n_test\n",
        "    data = [[]]*(l*4)\n",
        "    for k in range(l):\n",
        "        data[k] = S[0][k]\n",
        "        data[k + l] = S[1][k]\n",
        "        data[k + 2*l] = S[2][k]\n",
        "        data[k + 3*l] = S[3][k]\n",
        "    rnd.shuffle(data)\n",
        "    #Create Train and test set\n",
        "    X_train = np.zeros((4*n_train,18,11,2))\n",
        "    Y_train = np.zeros((1,4*n_train), dtype=np.uint8)\n",
        "    X_test = np.zeros((4*n_test,18,11,2))\n",
        "    Y_test = np.zeros((1,4*n_test), dtype=np.uint8)\n",
        "    for i in range(4*n_train):\n",
        "        pres = np.multiply(((data[i][0])>0),Moon17)\n",
        "        for k in range(18):\n",
        "            for l in range(11):\n",
        "                X_train[i][k][l][0] = (data[i][0][k][l])/3\n",
        "                X_train[i][k][l][1] = (pres[k][l])/6\n",
        "        Y_train[0][i] = int(data[i][1])\n",
        "    for i in range(4*n_test):\n",
        "        pres = np.multiply(((data[i+4*n_train][0])>0),Moon17)\n",
        "        for k in range(18):\n",
        "            for l in range(11):\n",
        "                X_test[i][k][l][0] = (data[i+4*n_train][0][k][l])/3\n",
        "                X_test[i][k][l][1] = (pres[k][l])/6\n",
        "        Y_test[0][i] = int(data[i+4*n_train][1])\n",
        "    return (X_train,Y_train,X_test,Y_test)\n",
        "\n",
        "def Load_Data_imgS4(Lx,Ly):\n",
        "    #n_x = len(Lx)\n",
        "    #n_y = len(Ly)\n",
        "    X_train = np.zeros((8192*2,2,18,11))\n",
        "    Y_train = np.zeros((1,8192*2), dtype=np.uint8)\n",
        "    X_test = np.zeros((2048*2,2,18,11))\n",
        "    Y_test = np.zeros((1,2048*2), dtype=np.uint8)\n",
        "    for i in range(8192*2):\n",
        "        X_train[i][0] = Lx[i]\n",
        "        X_train[i][0] = X_train[i][0]/3\n",
        "        X_train[i][1] = Moon17\n",
        "        X_train[i][1] = X_train[i][1]/5\n",
        "        Y_train[0][i] = int(Ly[i])\n",
        "    for i in range(2048*2):\n",
        "        X_test[i][0] = Lx[i+8192*2]\n",
        "        X_test[i][0] = X_test[i][0]/3\n",
        "        X_test[i][1] = Moon17\n",
        "        X_test[i][1] = X_test[i][1]/5\n",
        "        Y_test[0][i] = int(Ly[i+8192*2])\n",
        "\n",
        "    return (X_train,Y_train,X_test,Y_test)\n",
        "\n",
        "def Load_Data_AllS4(n_train,n_test):\n",
        "    #create Data\n",
        "    Lx=[]\n",
        "    Ly=[]\n",
        "    for i in range(1,51):\n",
        "        a,b = CreateDataS4('J'+str(i)+'.txt')\n",
        "        Lx+=a\n",
        "        Ly+=b\n",
        "    #create a list order by difficulty\n",
        "    n = len(Lx)\n",
        "    S = [[]]*4\n",
        "    for i in range (n):\n",
        "        S[Ly[i]] = S[Ly[i]] + [(Lx[i],Ly[i])]\n",
        "    for j in range(4):\n",
        "        rnd.shuffle(S[j])\n",
        "    #Create a shuffle data set with even distribution of difficulty\n",
        "    l = n_train+n_test\n",
        "    data = [[]]*(l*4)\n",
        "    for k in range(l):\n",
        "        data[k] = S[0][k]\n",
        "        data[k + l] = S[1][k]\n",
        "        data[k + 2*l] = S[2][k]\n",
        "        data[k + 3*l] = S[3][k]\n",
        "    rnd.shuffle(data)\n",
        "    #Create Train and test set\n",
        "    X_train = np.zeros((4*n_train,18,11,3))\n",
        "    Y_train = np.zeros((1,4*n_train), dtype=np.uint8)\n",
        "    X_test = np.zeros((4*n_test,18,11,3))\n",
        "    Y_test = np.zeros((1,4*n_test), dtype=np.uint8)\n",
        "    for i in range(4*n_train):\n",
        "        pres = np.multiply(((data[i][0])>0),Moon17)\n",
        "        orientation = np.multiply(((data[i][0])>0),MoonOr17)\n",
        "        for k in range(18):\n",
        "            for l in range(11):\n",
        "                X_train[i][k][l][0] = (data[i][0][k][l])/3\n",
        "                X_train[i][k][l][1] = (pres[k][l])/6\n",
        "                X_train[i][k][l][2] = (orientation[k][l])/8\n",
        "        Y_train[0][i] = int(data[i][1])\n",
        "    for i in range(4*n_test):\n",
        "        pres = np.multiply(((data[i+4*n_train][0])>0),Moon17)\n",
        "        orientation = np.multiply(((data[i+4*n_train][0])>0),MoonOr17)\n",
        "        for k in range(18):\n",
        "            for l in range(11):\n",
        "                X_test[i][k][l][0] = (data[i+4*n_train][0][k][l])/3\n",
        "                X_test[i][k][l][1] = (pres[k][l])/6\n",
        "                X_test[i][k][l][2] = (orientation[k][l])/8\n",
        "        Y_test[0][i] = int(data[i+4*n_train][1])\n",
        "    return (X_train,Y_train,X_test,Y_test)"
      ],
      "execution_count": null,
      "outputs": []
    },
    {
      "cell_type": "markdown",
      "metadata": {
        "id": "C_wfot4MCG1I"
      },
      "source": [
        "Load the dataset, convert to one hot and learn about its shapes."
      ]
    },
    {
      "cell_type": "code",
      "metadata": {
        "id": "qSs4m9KACG1J",
        "outputId": "3c9b8c63-a1d5-42a0-dfce-dde0d359f354",
        "colab": {
          "base_uri": "https://localhost:8080/",
          "height": 119
        }
      },
      "source": [
        "X_train_orig, Y_train_orig, X_test_orig, Y_test_orig= Load_Data_AllS5(2000,400)\n",
        "classes = np.array([0, 1, 2, 3, 5])\n",
        "#\"\"\"\n",
        "# Data augmentation by mirroring\n",
        "n_train = X_train_orig.shape[0]\n",
        "X_train = np.zeros((2*n_train,18,11,4))\n",
        "Y_train = np.zeros((1,2*n_train), dtype=np.uint8)\n",
        "\n",
        "for i in range(n_train):\n",
        "    X_train[i] = X_train_orig[i]\n",
        "    Y_train[0][i] = Y_train_orig[0][i]\n",
        "    X_train[n_train+i] = Miror(X_train_orig[i])\n",
        "    Y_train[0][n_train+i] = Y_train_orig[0][i]\n",
        "\n",
        "n_test = X_test_orig.shape[0]\n",
        "X_test = np.zeros((2*n_test,18,11,4))\n",
        "Y_test = np.zeros((1,2*n_test), dtype=np.uint8)\n",
        "\n",
        "for i in range(n_test):\n",
        "    X_test[i] = X_test_orig[i]\n",
        "    Y_test[0][i] = Y_test_orig[0][i]\n",
        "    X_test[n_test+i] = Miror(X_test_orig[i])\n",
        "    Y_test[0][n_test+i] = Y_test_orig[0][i]\n",
        "\n",
        "#X_train = X_train_orig\n",
        "#X_test = X_test_orig\n",
        "\n",
        "# Reshape\n",
        "Y_train = convert_to_one_hot(Y_train, 5)\n",
        "Y_test = convert_to_one_hot(Y_test, 5)\n",
        "Y_train = Y_train.T\n",
        "Y_test = Y_test.T\n",
        "\n",
        "print (\"number of training examples = \" + str(X_train.shape[0]))\n",
        "print (\"number of test examples = \" + str(X_test.shape[0]))\n",
        "print (\"X_train shape: \" + str(X_train.shape))\n",
        "print (\"Y_train shape: \" + str(Y_train.shape))\n",
        "print (\"X_test shape: \" + str(X_test.shape))\n",
        "print (\"Y_test shape: \" + str(Y_test.shape))"
      ],
      "execution_count": null,
      "outputs": [
        {
          "output_type": "stream",
          "text": [
            "number of training examples = 20000\n",
            "number of test examples = 4000\n",
            "X_train shape: (20000, 18, 11, 4)\n",
            "Y_train shape: (20000, 5)\n",
            "X_test shape: (4000, 18, 11, 4)\n",
            "Y_test shape: (4000, 5)\n"
          ],
          "name": "stdout"
        }
      ]
    },
    {
      "cell_type": "code",
      "metadata": {
        "id": "oOQPm11WCG1L"
      },
      "source": [
        "def MoonModel(input_shape):\n",
        "    \"\"\"\n",
        "    Implementation of the Model.\n",
        "\n",
        "    Arguments:\n",
        "    input_shape -- shape of the images of the dataset\n",
        "\n",
        "    Returns:\n",
        "    model -- a Model() instance in Keras\n",
        "    \"\"\"\n",
        "\n",
        "\n",
        "    # Define the input placeholder as a tensor with shape input_shape. Think of this as your input image!\n",
        "    X_input = Input(input_shape)\n",
        "\n",
        "    # Save the input value. You'll need this later to add back to the main path.\n",
        "    #X_shortcut = X_input\n",
        "\n",
        "    # Zero-Padding: pads the border of X_input with zeroes\n",
        "    X = ZeroPadding2D((4, 4))(X_input)\n",
        "\n",
        "    # CONV -> BN -> RELU Block applied to X\n",
        "    X = Conv2D(128, (5, 5), strides = (1, 1), name = 'conv0')(X)\n",
        "    X = BatchNormalization(axis = 3, name = 'bn0')(X)\n",
        "    X = Activation('relu')(X)\n",
        "\n",
        "    # Zero-Padding: pads the border of X_input with zeroes\n",
        "    X = ZeroPadding2D((2, 2))(X)\n",
        "\n",
        "    # CONV -> BN -> RELU Block applied to X\n",
        "    X = Conv2D(128, (3, 3), strides = (1, 1), name = 'conv1')(X_input)\n",
        "    X = BatchNormalization(axis = 3, name = 'bn1')(X)\n",
        "    X = Activation('relu')(X)\n",
        "\n",
        "    # Zero-Padding: pads the border of X_input with zeroes\n",
        "    X = ZeroPadding2D((2, 2))(X)\n",
        "\n",
        "    # CONV -> BN -> RELU Block applied to X\n",
        "    X = Conv2D(128, (3, 3), strides = (1, 1), name = 'conv2')(X_input)\n",
        "    X = BatchNormalization(axis = 3, name = 'bn2')(X)\n",
        "    X = Activation('relu')(X)\n",
        "\n",
        "    # Zero-Padding: pads the border of X_input with zeroes\n",
        "    X = ZeroPadding2D((2, 2))(X)\n",
        "\n",
        "    # CONV -> BN -> RELU Block applied to X\n",
        "    X = Conv2D(128, (3, 3), strides = (1, 1), name = 'conv3')(X_input)\n",
        "    X = BatchNormalization(axis = 3, name = 'bn3')(X)\n",
        "    X = Activation('relu')(X)\n",
        "\n",
        "    # Zero-Padding: pads the border of X_input with zeroes\n",
        "    X = ZeroPadding2D((2, 2))(X)\n",
        "\n",
        "    # CONV -> BN -> RELU Block applied to X\n",
        "    X = Conv2D(128, (3, 3), strides = (1, 1), name = 'conv4')(X_input)\n",
        "    X = BatchNormalization(axis = 3, name = 'bn4')(X)\n",
        "    X = Activation('relu')(X)\n",
        "\n",
        "    # Zero-Padding: pads the border of X_input with zeroes\n",
        "    X = ZeroPadding2D((2, 2))(X)\n",
        "\n",
        "    # CONV -> BN -> RELU Block applied to X\n",
        "    X = Conv2D(128, (3, 3), strides = (1, 1), name = 'conv5')(X_input)\n",
        "    X = BatchNormalization(axis = 3, name = 'bn5')(X)\n",
        "    X = Activation('relu')(X)\n",
        "\n",
        "\n",
        "    \"\"\"\n",
        "    # CONV -> BN -> RELU Block applied to X\n",
        "    X_shortcut = Conv2D(15, (6, 6), strides = (1, 1), name = 'conv0bis')(X_input)\n",
        "    X_shortcut = BatchNormalization(axis = 3, name = 'bn0bis')(X)\n",
        "    X_shortcut = Activation('relu')(X)\n",
        "\n",
        "    # Final step: Add shortcut value to main path, and pass it through a RELU activation (≈2 lines)\n",
        "    X = Add()([X, X_shortcut])\n",
        "    X = Activation('relu')(X)\n",
        "\n",
        "    # CONV -> BN -> RELU Block applied to X\n",
        "    X = Conv2D(15, (6, 6), strides = (1, 1), name = 'conv1bis')(X_input)\n",
        "    X = BatchNormalization(axis = 3, name = 'bn1bis')(X)\n",
        "    X = Activation('relu')(X)\n",
        "\n",
        "    # CONV -> BN -> RELU Block applied to X\n",
        "    X = Conv2D(5, (4,4), strides = (1, 1), name = 'conv1biss')(X_input)\n",
        "    X = BatchNormalization(axis = 3, name = 'bn1biss')(X)\n",
        "    X = Activation('relu')(X)\n",
        "\n",
        "    # MAXPOOL\n",
        "    #X = MaxPooling2D((2, 2), name='max_pool1')(X)\n",
        "    \"\"\"\n",
        "\n",
        "    # CONV -> BN -> RELU Block applied to X\n",
        "    X = Conv2D(1, (1, 1), strides = (1, 1), name = 'conv2')(X)\n",
        "    X = BatchNormalization(axis = 3, name = 'bn2')(X)\n",
        "    X = Activation('relu')(X)\n",
        "\n",
        "\n",
        "    # MAXPOOL\n",
        "    #X = MaxPooling2D((2, 2), name='max_pool2')(X)\n",
        "\n",
        "    # FLATTEN X (means convert it to a vector) + FULLYCONNECTED\n",
        "    X = Flatten()(X)\n",
        "    \"\"\"\n",
        "    X = Dense(32, activation='relu', name='fc1')(X)\n",
        "    X = Dense(5, activation='relu', name='fc2')(X)\n",
        "    \"\"\"\n",
        "    X = Dense(5, activation='softmax', name='fc')(X)\n",
        "\n",
        "    # Create model. This creates your Keras model instance, you'll use this instance to train/test the model.\n",
        "    model = Model(inputs = X_input, outputs = X, name='MoonModel')\n",
        "\n",
        "\n",
        "    ### END CODE HERE ###\n",
        "\n",
        "    return model"
      ],
      "execution_count": null,
      "outputs": []
    },
    {
      "cell_type": "code",
      "metadata": {
        "scrolled": true,
        "id": "ZYxwXFceCG1O",
        "outputId": "d3e655c0-6f17-446a-dfd3-20dba0b94621",
        "colab": {
          "base_uri": "https://localhost:8080/",
          "height": 1000
        }
      },
      "source": [
        "moonModel = MoonModel((18, 11, 4))\n",
        "moonModel.compile(optimizer = \"Adam\", loss = \"categorical_crossentropy\", metrics = [\"categorical_accuracy\"])\n",
        "history = moonModel.fit(x = X_train, y = Y_train , epochs =60, batch_size =32 ,validation_data=(X_test,Y_test))"
      ],
      "execution_count": null,
      "outputs": [
        {
          "output_type": "stream",
          "text": [
            "Train on 20000 samples, validate on 4000 samples\n",
            "Epoch 1/60\n",
            "20000/20000 [==============================] - 10s 476us/step - loss: 1.4803 - categorical_accuracy: 0.3289 - val_loss: 1.3853 - val_categorical_accuracy: 0.3748\n",
            "Epoch 2/60\n",
            "20000/20000 [==============================] - 5s 268us/step - loss: 1.3485 - categorical_accuracy: 0.3873 - val_loss: 1.3194 - val_categorical_accuracy: 0.3985\n",
            "Epoch 3/60\n",
            "20000/20000 [==============================] - 5s 274us/step - loss: 1.2962 - categorical_accuracy: 0.4147 - val_loss: 1.2993 - val_categorical_accuracy: 0.3940\n",
            "Epoch 4/60\n",
            "20000/20000 [==============================] - 5s 269us/step - loss: 1.2666 - categorical_accuracy: 0.4269 - val_loss: 1.2654 - val_categorical_accuracy: 0.4190\n",
            "Epoch 5/60\n",
            "20000/20000 [==============================] - 5s 270us/step - loss: 1.2480 - categorical_accuracy: 0.4345 - val_loss: 1.2632 - val_categorical_accuracy: 0.4173\n",
            "Epoch 6/60\n",
            "20000/20000 [==============================] - 5s 273us/step - loss: 1.2360 - categorical_accuracy: 0.4466 - val_loss: 1.2536 - val_categorical_accuracy: 0.4245\n",
            "Epoch 7/60\n",
            "20000/20000 [==============================] - 5s 270us/step - loss: 1.2248 - categorical_accuracy: 0.4525 - val_loss: 1.2480 - val_categorical_accuracy: 0.4288\n",
            "Epoch 8/60\n",
            "20000/20000 [==============================] - 6s 281us/step - loss: 1.2170 - categorical_accuracy: 0.4554 - val_loss: 1.2464 - val_categorical_accuracy: 0.4475\n",
            "Epoch 9/60\n",
            "20000/20000 [==============================] - 5s 270us/step - loss: 1.2109 - categorical_accuracy: 0.4598 - val_loss: 1.2344 - val_categorical_accuracy: 0.4380\n",
            "Epoch 10/60\n",
            "20000/20000 [==============================] - 5s 267us/step - loss: 1.2065 - categorical_accuracy: 0.4625 - val_loss: 1.2180 - val_categorical_accuracy: 0.4487\n",
            "Epoch 11/60\n",
            "20000/20000 [==============================] - 5s 268us/step - loss: 1.2026 - categorical_accuracy: 0.4629 - val_loss: 1.2348 - val_categorical_accuracy: 0.4400\n",
            "Epoch 12/60\n",
            "20000/20000 [==============================] - 5s 266us/step - loss: 1.1998 - categorical_accuracy: 0.4636 - val_loss: 1.2328 - val_categorical_accuracy: 0.4432\n",
            "Epoch 13/60\n",
            "20000/20000 [==============================] - 5s 273us/step - loss: 1.1980 - categorical_accuracy: 0.4656 - val_loss: 1.2195 - val_categorical_accuracy: 0.4487\n",
            "Epoch 14/60\n",
            "20000/20000 [==============================] - 5s 271us/step - loss: 1.1947 - categorical_accuracy: 0.4649 - val_loss: 1.2171 - val_categorical_accuracy: 0.4605\n",
            "Epoch 15/60\n",
            "20000/20000 [==============================] - 6s 276us/step - loss: 1.1942 - categorical_accuracy: 0.4667 - val_loss: 1.2395 - val_categorical_accuracy: 0.4345\n",
            "Epoch 16/60\n",
            "20000/20000 [==============================] - 6s 275us/step - loss: 1.1906 - categorical_accuracy: 0.4680 - val_loss: 1.2214 - val_categorical_accuracy: 0.4495\n",
            "Epoch 17/60\n",
            "20000/20000 [==============================] - 6s 277us/step - loss: 1.1911 - categorical_accuracy: 0.4685 - val_loss: 1.2321 - val_categorical_accuracy: 0.4392\n",
            "Epoch 18/60\n",
            "20000/20000 [==============================] - 5s 270us/step - loss: 1.1876 - categorical_accuracy: 0.4703 - val_loss: 1.2127 - val_categorical_accuracy: 0.4560\n",
            "Epoch 19/60\n",
            "20000/20000 [==============================] - 5s 271us/step - loss: 1.1868 - categorical_accuracy: 0.4706 - val_loss: 1.2181 - val_categorical_accuracy: 0.4562\n",
            "Epoch 20/60\n",
            "20000/20000 [==============================] - 5s 270us/step - loss: 1.1863 - categorical_accuracy: 0.4722 - val_loss: 1.2168 - val_categorical_accuracy: 0.4517\n",
            "Epoch 21/60\n",
            "20000/20000 [==============================] - 5s 268us/step - loss: 1.1845 - categorical_accuracy: 0.4722 - val_loss: 1.2162 - val_categorical_accuracy: 0.4475\n",
            "Epoch 22/60\n",
            "20000/20000 [==============================] - 5s 272us/step - loss: 1.1843 - categorical_accuracy: 0.4716 - val_loss: 1.2177 - val_categorical_accuracy: 0.4472\n",
            "Epoch 23/60\n",
            "20000/20000 [==============================] - 5s 273us/step - loss: 1.1836 - categorical_accuracy: 0.4696 - val_loss: 1.2241 - val_categorical_accuracy: 0.4462\n",
            "Epoch 24/60\n",
            "20000/20000 [==============================] - 6s 276us/step - loss: 1.1837 - categorical_accuracy: 0.4726 - val_loss: 1.2220 - val_categorical_accuracy: 0.4465\n",
            "Epoch 25/60\n",
            "20000/20000 [==============================] - 5s 270us/step - loss: 1.1801 - categorical_accuracy: 0.4767 - val_loss: 1.2134 - val_categorical_accuracy: 0.4510\n",
            "Epoch 26/60\n",
            "20000/20000 [==============================] - 5s 273us/step - loss: 1.1795 - categorical_accuracy: 0.4812 - val_loss: 1.2154 - val_categorical_accuracy: 0.4545\n",
            "Epoch 27/60\n",
            "20000/20000 [==============================] - 5s 269us/step - loss: 1.1800 - categorical_accuracy: 0.4771 - val_loss: 1.2098 - val_categorical_accuracy: 0.4547\n",
            "Epoch 28/60\n",
            "20000/20000 [==============================] - 5s 272us/step - loss: 1.1777 - categorical_accuracy: 0.4767 - val_loss: 1.2161 - val_categorical_accuracy: 0.4562\n",
            "Epoch 29/60\n",
            "20000/20000 [==============================] - 5s 270us/step - loss: 1.1774 - categorical_accuracy: 0.4778 - val_loss: 1.2114 - val_categorical_accuracy: 0.4627\n",
            "Epoch 30/60\n",
            "20000/20000 [==============================] - 5s 271us/step - loss: 1.1759 - categorical_accuracy: 0.4782 - val_loss: 1.2071 - val_categorical_accuracy: 0.4637\n",
            "Epoch 31/60\n",
            "20000/20000 [==============================] - 5s 267us/step - loss: 1.1750 - categorical_accuracy: 0.4816 - val_loss: 1.2106 - val_categorical_accuracy: 0.4675\n",
            "Epoch 32/60\n",
            "20000/20000 [==============================] - 5s 273us/step - loss: 1.1764 - categorical_accuracy: 0.4771 - val_loss: 1.2350 - val_categorical_accuracy: 0.4470\n",
            "Epoch 33/60\n",
            "20000/20000 [==============================] - 5s 272us/step - loss: 1.1730 - categorical_accuracy: 0.4798 - val_loss: 1.2087 - val_categorical_accuracy: 0.4547\n",
            "Epoch 34/60\n",
            "20000/20000 [==============================] - 5s 271us/step - loss: 1.1736 - categorical_accuracy: 0.4773 - val_loss: 1.2255 - val_categorical_accuracy: 0.4485\n",
            "Epoch 35/60\n",
            "20000/20000 [==============================] - 5s 268us/step - loss: 1.1730 - categorical_accuracy: 0.4809 - val_loss: 1.2140 - val_categorical_accuracy: 0.4542\n",
            "Epoch 36/60\n",
            "20000/20000 [==============================] - 5s 269us/step - loss: 1.1719 - categorical_accuracy: 0.4802 - val_loss: 1.2121 - val_categorical_accuracy: 0.4602\n",
            "Epoch 37/60\n",
            "20000/20000 [==============================] - 5s 274us/step - loss: 1.1718 - categorical_accuracy: 0.4814 - val_loss: 1.2176 - val_categorical_accuracy: 0.4617\n",
            "Epoch 38/60\n",
            "20000/20000 [==============================] - 5s 268us/step - loss: 1.1704 - categorical_accuracy: 0.4827 - val_loss: 1.2062 - val_categorical_accuracy: 0.4595\n",
            "Epoch 39/60\n",
            "20000/20000 [==============================] - 5s 270us/step - loss: 1.1694 - categorical_accuracy: 0.4806 - val_loss: 1.2137 - val_categorical_accuracy: 0.4585\n",
            "Epoch 40/60\n",
            "20000/20000 [==============================] - 5s 267us/step - loss: 1.1694 - categorical_accuracy: 0.4817 - val_loss: 1.2114 - val_categorical_accuracy: 0.4555\n",
            "Epoch 41/60\n",
            "20000/20000 [==============================] - 5s 270us/step - loss: 1.1685 - categorical_accuracy: 0.4792 - val_loss: 1.2212 - val_categorical_accuracy: 0.4512\n",
            "Epoch 42/60\n",
            "20000/20000 [==============================] - 5s 274us/step - loss: 1.1683 - categorical_accuracy: 0.4845 - val_loss: 1.2096 - val_categorical_accuracy: 0.4610\n",
            "Epoch 43/60\n",
            "20000/20000 [==============================] - 5s 273us/step - loss: 1.1670 - categorical_accuracy: 0.4829 - val_loss: 1.2083 - val_categorical_accuracy: 0.4540\n",
            "Epoch 44/60\n",
            "20000/20000 [==============================] - 6s 276us/step - loss: 1.1672 - categorical_accuracy: 0.4829 - val_loss: 1.2082 - val_categorical_accuracy: 0.4612\n",
            "Epoch 45/60\n",
            "20000/20000 [==============================] - 5s 273us/step - loss: 1.1679 - categorical_accuracy: 0.4834 - val_loss: 1.2104 - val_categorical_accuracy: 0.4640\n",
            "Epoch 46/60\n",
            "20000/20000 [==============================] - 5s 268us/step - loss: 1.1657 - categorical_accuracy: 0.4864 - val_loss: 1.2108 - val_categorical_accuracy: 0.4622\n",
            "Epoch 47/60\n",
            "20000/20000 [==============================] - 5s 269us/step - loss: 1.1678 - categorical_accuracy: 0.4872 - val_loss: 1.2054 - val_categorical_accuracy: 0.4652\n",
            "Epoch 48/60\n",
            "20000/20000 [==============================] - 6s 275us/step - loss: 1.1653 - categorical_accuracy: 0.4854 - val_loss: 1.2205 - val_categorical_accuracy: 0.4542\n",
            "Epoch 49/60\n",
            "20000/20000 [==============================] - 5s 267us/step - loss: 1.1638 - categorical_accuracy: 0.4857 - val_loss: 1.2092 - val_categorical_accuracy: 0.4570\n",
            "Epoch 50/60\n",
            "20000/20000 [==============================] - 5s 270us/step - loss: 1.1633 - categorical_accuracy: 0.4844 - val_loss: 1.2193 - val_categorical_accuracy: 0.4600\n",
            "Epoch 51/60\n",
            "20000/20000 [==============================] - 5s 271us/step - loss: 1.1655 - categorical_accuracy: 0.4855 - val_loss: 1.2241 - val_categorical_accuracy: 0.4577\n",
            "Epoch 52/60\n",
            "20000/20000 [==============================] - 5s 273us/step - loss: 1.1647 - categorical_accuracy: 0.4833 - val_loss: 1.2177 - val_categorical_accuracy: 0.4527\n",
            "Epoch 53/60\n",
            "20000/20000 [==============================] - 5s 271us/step - loss: 1.1638 - categorical_accuracy: 0.4857 - val_loss: 1.2063 - val_categorical_accuracy: 0.4597\n",
            "Epoch 54/60\n",
            "20000/20000 [==============================] - 5s 269us/step - loss: 1.1633 - categorical_accuracy: 0.4874 - val_loss: 1.2057 - val_categorical_accuracy: 0.4655\n",
            "Epoch 55/60\n",
            "20000/20000 [==============================] - 5s 273us/step - loss: 1.1634 - categorical_accuracy: 0.4879 - val_loss: 1.2141 - val_categorical_accuracy: 0.4630\n",
            "Epoch 56/60\n",
            "20000/20000 [==============================] - 5s 271us/step - loss: 1.1625 - categorical_accuracy: 0.4826 - val_loss: 1.2192 - val_categorical_accuracy: 0.4545\n",
            "Epoch 57/60\n",
            "20000/20000 [==============================] - 5s 271us/step - loss: 1.1622 - categorical_accuracy: 0.4826 - val_loss: 1.2341 - val_categorical_accuracy: 0.4447\n",
            "Epoch 58/60\n",
            "20000/20000 [==============================] - 5s 269us/step - loss: 1.1614 - categorical_accuracy: 0.4832 - val_loss: 1.2137 - val_categorical_accuracy: 0.4637\n",
            "Epoch 59/60\n",
            "20000/20000 [==============================] - 5s 273us/step - loss: 1.1608 - categorical_accuracy: 0.4871 - val_loss: 1.2201 - val_categorical_accuracy: 0.4587\n",
            "Epoch 60/60\n",
            "20000/20000 [==============================] - 5s 268us/step - loss: 1.1590 - categorical_accuracy: 0.4862 - val_loss: 1.2216 - val_categorical_accuracy: 0.4517\n"
          ],
          "name": "stdout"
        }
      ]
    },
    {
      "cell_type": "markdown",
      "metadata": {
        "id": "UImOCzoHCG1Q"
      },
      "source": [
        "Model Evaluation"
      ]
    },
    {
      "cell_type": "code",
      "metadata": {
        "id": "exRUWvurCG1R",
        "outputId": "63070bb1-70ba-4e7c-dc54-20f5087b1382",
        "colab": {
          "base_uri": "https://localhost:8080/",
          "height": 530
        }
      },
      "source": [
        "# visualizing losses and accuracy\n",
        "train_loss =  history.history['loss']\n",
        "val_loss   =  history.history['val_loss']\n",
        "train_acc  =  history.history['categorical_accuracy']\n",
        "val_acc    =  history.history['val_categorical_accuracy']\n",
        "xc         = range(60)\n",
        "\n",
        "plt.figure()\n",
        "plt.plot(xc, train_acc)\n",
        "plt.plot(xc, val_acc)\n",
        "\n",
        "plt.figure()\n",
        "plt.plot(xc, train_loss)\n",
        "plt.plot(xc, val_loss)\n"
      ],
      "execution_count": null,
      "outputs": [
        {
          "output_type": "execute_result",
          "data": {
            "text/plain": [
              "[<matplotlib.lines.Line2D at 0x7f9b4392b828>]"
            ]
          },
          "metadata": {
            "tags": []
          },
          "execution_count": 87
        },
        {
          "output_type": "display_data",
          "data": {
            "image/png": "[encoded data removed]",
            "text/plain": [
              "<Figure size 432x288 with 1 Axes>"
            ]
          },
          "metadata": {
            "tags": []
          }
        },
        {
          "output_type": "display_data",
          "data": {
            "image/png": "[encoded data removed]",
            "text/plain": [
              "<Figure size 432x288 with 1 Axes>"
            ]
          },
          "metadata": {
            "tags": []
          }
        }
      ]
    },
    {
      "cell_type": "code",
      "metadata": {
        "scrolled": true,
        "id": "0Z_CxVtDCG1U",
        "outputId": "5880500d-7a90-4fbe-ce6a-885519dfda90"
      },
      "source": [
        "preds = moonModel.evaluate(x = X_test, y = Y_test)\n",
        "print()\n",
        "print (\"Loss = \" + str(preds[0]))\n",
        "print (\"Test Accuracy = \" + str(preds[1]))"
      ],
      "execution_count": null,
      "outputs": [
        {
          "output_type": "stream",
          "text": [
            "2000/2000 [==============================] - 1s 268us/step\n",
            "\n",
            "Loss = 1.2891657161712646\n",
            "Test Accuracy = 0.4385\n"
          ],
          "name": "stdout"
        }
      ]
    },
    {
      "cell_type": "code",
      "metadata": {
        "id": "aS9y3GPjCG1W"
      },
      "source": [
        "def FullMoonModel(input_shape):\n",
        "    \"\"\"\n",
        "    Implementation of the Model.\n",
        "\n",
        "    Arguments:\n",
        "    input_shape -- shape of the images of the dataset\n",
        "\n",
        "    Returns:\n",
        "    model -- a Model() instance in Keras\n",
        "    \"\"\"\n",
        "\n",
        "\n",
        "    # Define the input placeholder as a tensor with shape input_shape. Think of this as your input image!\n",
        "    X_input = Input(input_shape)\n",
        "\n",
        "    # CONV -> BN -> RELU Block applied to X\n",
        "    X = Conv2D(2, (1, 1), strides = (1, 1), name = 'conv0')(X_input)\n",
        "    X = BatchNormalization(axis = 3, name = 'bn0')(X)\n",
        "    X = Activation('relu')(X)\n",
        "\n",
        "    # Zero-Padding: pads the border of X_input with zeroes\n",
        "    X = Flatten()(X)\n",
        "    X = Dense(20, activation='relu', name='fc1')(X)\n",
        "    X = Dense(10, activation='relu', name='fc2')(X)\n",
        "    #X = Dense(5, activation='relu', name='fc3')(X)\n",
        "    X = Dense(5, activation='relu', name='fc4')(X)\n",
        "    X = Dense(5, activation='softmax', name='SoftMax')(X)\n",
        "\n",
        "    # Create model. This creates your Keras model instance, you'll use this instance to train/test the model.\n",
        "    model = Model(inputs = X_input, outputs = X, name='MoonModel')\n",
        "\n",
        "\n",
        "    ### END CODE HERE ###\n",
        "\n",
        "    return model"
      ],
      "execution_count": null,
      "outputs": []
    },
    {
      "cell_type": "code",
      "metadata": {
        "id": "A_JYBdJHCG1Z"
      },
      "source": [
        "def ScoreFullMoonModel(input_shape):\n",
        "    \"\"\"\n",
        "    Implementation of the Model.\n",
        "\n",
        "    Arguments:\n",
        "    input_shape -- shape of the images of the dataset\n",
        "\n",
        "    Returns:\n",
        "    model -- a Model() instance in Keras\n",
        "    \"\"\"\n",
        "\n",
        "\n",
        "    # Define the input placeholder as a tensor with shape input_shape. Think of this as your input image!\n",
        "    X_input = Input(input_shape)\n",
        "\n",
        "    # CONV -> BN -> RELU Block applied to X\n",
        "    X = Conv2D(1, (1, 1), strides = (1, 1), name = 'conv0', weights=FullMoonModel.layers[0].get_weights())(X_input)\n",
        "    X = Activation('relu')(X)\n",
        "\n",
        "    # Create model. This creates your Keras model instance, you'll use this instance to train/test the model.\n",
        "    model = Model(inputs = X_input, outputs = X, name='MoonModel')\n",
        "\n",
        "\n",
        "    ### END CODE HERE ###\n",
        "\n",
        "    return model"
      ],
      "execution_count": null,
      "outputs": []
    },
    {
      "cell_type": "code",
      "metadata": {
        "scrolled": false,
        "id": "IBA4y7m4CG1b",
        "outputId": "974abc39-5d84-433a-cfe7-8f0fac8a0436",
        "colab": {
          "base_uri": "https://localhost:8080/",
          "height": 216
        }
      },
      "source": [
        "fullmoonModel = FullMoonModel((18, 11, 4))\n",
        "fullmoonModel.compile(optimizer = \"Adam\", loss = \"categorical_crossentropy\", metrics = [\"categorical_accuracy\"])\n",
        "#K.set_value(fullmoonModel.optimizer.lr, 0.0008)\n",
        "fullhistory = fullmoonModel.fit(x = X_train, y = Y_train , epochs =60, batch_size =16 ,validation_data=(X_test,Y_test))"
      ],
      "execution_count": null,
      "outputs": [
        {
          "output_type": "error",
          "ename": "NameError",
          "evalue": "ignored",
          "traceback": [
            "\u001b[0;31m---------------------------------------------------------------------------\u001b[0m",
            "\u001b[0;31mNameError\u001b[0m                                 Traceback (most recent call last)",
            "\u001b[0;32m<ipython-input-15-9155a73ff7ad>\u001b[0m in \u001b[0;36m<module>\u001b[0;34m()\u001b[0m\n\u001b[0;32m----> 1\u001b[0;31m \u001b[0mfullmoonModel\u001b[0m \u001b[0;34m=\u001b[0m \u001b[0mFullMoonModel\u001b[0m\u001b[0;34m(\u001b[0m\u001b[0;34m(\u001b[0m\u001b[0;36m18\u001b[0m\u001b[0;34m,\u001b[0m \u001b[0;36m11\u001b[0m\u001b[0;34m,\u001b[0m \u001b[0;36m4\u001b[0m\u001b[0;34m)\u001b[0m\u001b[0;34m)\u001b[0m\u001b[0;34m\u001b[0m\u001b[0;34m\u001b[0m\u001b[0m\n\u001b[0m\u001b[1;32m      2\u001b[0m \u001b[0mfullmoonModel\u001b[0m\u001b[0;34m.\u001b[0m\u001b[0mcompile\u001b[0m\u001b[0;34m(\u001b[0m\u001b[0moptimizer\u001b[0m \u001b[0;34m=\u001b[0m \u001b[0;34m\"Adam\"\u001b[0m\u001b[0;34m,\u001b[0m \u001b[0mloss\u001b[0m \u001b[0;34m=\u001b[0m \u001b[0;34m\"categorical_crossentropy\"\u001b[0m\u001b[0;34m,\u001b[0m \u001b[0mmetrics\u001b[0m \u001b[0;34m=\u001b[0m \u001b[0;34m[\u001b[0m\u001b[0;34m\"categorical_accuracy\"\u001b[0m\u001b[0;34m]\u001b[0m\u001b[0;34m)\u001b[0m\u001b[0;34m\u001b[0m\u001b[0;34m\u001b[0m\u001b[0m\n\u001b[1;32m      3\u001b[0m \u001b[0;31m#K.set_value(fullmoonModel.optimizer.lr, 0.0008)\u001b[0m\u001b[0;34m\u001b[0m\u001b[0;34m\u001b[0m\u001b[0;34m\u001b[0m\u001b[0m\n\u001b[1;32m      4\u001b[0m \u001b[0mfullhistory\u001b[0m \u001b[0;34m=\u001b[0m \u001b[0mfullmoonModel\u001b[0m\u001b[0;34m.\u001b[0m\u001b[0mfit\u001b[0m\u001b[0;34m(\u001b[0m\u001b[0mx\u001b[0m \u001b[0;34m=\u001b[0m \u001b[0mX_train\u001b[0m\u001b[0;34m,\u001b[0m \u001b[0my\u001b[0m \u001b[0;34m=\u001b[0m \u001b[0mY_train\u001b[0m \u001b[0;34m,\u001b[0m \u001b[0mepochs\u001b[0m \u001b[0;34m=\u001b[0m\u001b[0;36m60\u001b[0m\u001b[0;34m,\u001b[0m \u001b[0mbatch_size\u001b[0m \u001b[0;34m=\u001b[0m\u001b[0;36m16\u001b[0m \u001b[0;34m,\u001b[0m\u001b[0mvalidation_data\u001b[0m\u001b[0;34m=\u001b[0m\u001b[0;34m(\u001b[0m\u001b[0mX_test\u001b[0m\u001b[0;34m,\u001b[0m\u001b[0mY_test\u001b[0m\u001b[0;34m)\u001b[0m\u001b[0;34m)\u001b[0m\u001b[0;34m\u001b[0m\u001b[0;34m\u001b[0m\u001b[0m\n",
            "\u001b[0;31mNameError\u001b[0m: name 'FullMoonModel' is not defined"
          ]
        }
      ]
    },
    {
      "cell_type": "code",
      "metadata": {
        "id": "mWjb88IUCG1e",
        "outputId": "48444bec-1065-46ac-ce1a-5bd9396f5ee1",
        "colab": {
          "base_uri": "https://localhost:8080/",
          "height": 530
        }
      },
      "source": [
        "# visualizing losses and accuracy\n",
        "train_loss = fullhistory.history['loss']\n",
        "val_loss   = fullhistory.history['val_loss']\n",
        "train_acc  = fullhistory.history['categorical_accuracy']\n",
        "val_acc    = fullhistory.history['val_categorical_accuracy']\n",
        "xc         = range(30)\n",
        "\n",
        "plt.figure()\n",
        "plt.plot(xc, train_acc)\n",
        "plt.plot(xc, val_acc)\n",
        "\n",
        "plt.figure()\n",
        "plt.plot(xc, train_loss)\n",
        "plt.plot(xc, val_loss)\n"
      ],
      "execution_count": null,
      "outputs": [
        {
          "output_type": "execute_result",
          "data": {
            "text/plain": [
              "[<matplotlib.lines.Line2D at 0x7f74879d6f98>]"
            ]
          },
          "metadata": {
            "tags": []
          },
          "execution_count": 58
        },
        {
          "output_type": "display_data",
          "data": {
            "image/png": "[encoded data removed]",
            "text/plain": [
              "<Figure size 432x288 with 1 Axes>"
            ]
          },
          "metadata": {
            "tags": []
          }
        },
        {
          "output_type": "display_data",
          "data": {
            "image/png": "[encoded data removed]",
            "text/plain": [
              "<Figure size 432x288 with 1 Axes>"
            ]
          },
          "metadata": {
            "tags": []
          }
        }
      ]
    },
    {
      "cell_type": "code",
      "metadata": {
        "id": "_bjZDSEWCG1g",
        "outputId": "216573cc-ad84-4fb6-eb60-e03ce75a17cb"
      },
      "source": [
        "preds = fullmoonModel.evaluate(x = X_test, y = Y_test)\n",
        "print()\n",
        "print (\"Loss = \" + str(preds[0]))\n",
        "print (\"Test Accuracy = \" + str(preds[1]))"
      ],
      "execution_count": null,
      "outputs": [
        {
          "output_type": "stream",
          "text": [
            "2000/2000 [==============================] - 0s 92us/step\n",
            "\n",
            "Loss = 1.1714059858322143\n",
            "Test Accuracy = 0.5015\n"
          ],
          "name": "stdout"
        }
      ]
    },
    {
      "cell_type": "code",
      "metadata": {
        "id": "ta-TFEXCCG1j",
        "outputId": "c8a58bc4-e232-4d85-de86-7df2b01eddd9"
      },
      "source": [
        "preds = fullmoonModel.evaluate(x = X_test, y = Y_test)\n",
        "print()\n",
        "print (\"Loss = \" + str(preds[0]))\n",
        "print (\"Test Accuracy = \" + str(preds[1]))"
      ],
      "execution_count": null,
      "outputs": [
        {
          "output_type": "stream",
          "text": [
            "2000/2000 [==============================] - 0s 83us/step\n",
            "\n",
            "Loss = 1.1663485202789308\n",
            "Test Accuracy = 0.487\n"
          ],
          "name": "stdout"
        }
      ]
    },
    {
      "cell_type": "code",
      "metadata": {
        "scrolled": false,
        "id": "1qoixMeHCG1l",
        "outputId": "9f0fed4c-1201-4d24-ef38-673d3ae4f072",
        "colab": {
          "base_uri": "https://localhost:8080/",
          "height": 459
        }
      },
      "source": [
        "fullmoonModel.summary()"
      ],
      "execution_count": null,
      "outputs": [
        {
          "output_type": "stream",
          "text": [
            "Model: \"MoonModel\"\n",
            "_________________________________________________________________\n",
            "Layer (type)                 Output Shape              Param #   \n",
            "=================================================================\n",
            "input_1 (InputLayer)         (None, 18, 11, 4)         0         \n",
            "_________________________________________________________________\n",
            "conv3 (Conv2D)               (None, 16, 9, 64)         2368      \n",
            "_________________________________________________________________\n",
            "bn3 (BatchNormalization)     (None, 16, 9, 64)         256       \n",
            "_________________________________________________________________\n",
            "activation_2 (Activation)    (None, 16, 9, 64)         0         \n",
            "_________________________________________________________________\n",
            "conv2 (Conv2D)               (None, 16, 9, 1)          65        \n",
            "_________________________________________________________________\n",
            "bn2 (BatchNormalization)     (None, 16, 9, 1)          4         \n",
            "_________________________________________________________________\n",
            "activation_3 (Activation)    (None, 16, 9, 1)          0         \n",
            "_________________________________________________________________\n",
            "flatten_1 (Flatten)          (None, 144)               0         \n",
            "_________________________________________________________________\n",
            "fc (Dense)                   (None, 5)                 725       \n",
            "=================================================================\n",
            "Total params: 3,418\n",
            "Trainable params: 3,288\n",
            "Non-trainable params: 130\n",
            "_________________________________________________________________\n"
          ],
          "name": "stdout"
        }
      ]
    },
    {
      "cell_type": "code",
      "metadata": {
        "id": "QFmE-4aHdr3T",
        "outputId": "c2c185a1-284e-4aa6-e498-1fc1ee350828",
        "colab": {
          "base_uri": "https://localhost:8080/",
          "height": 459
        }
      },
      "source": [
        "moonModel.summary()"
      ],
      "execution_count": null,
      "outputs": [
        {
          "output_type": "stream",
          "text": [
            "Model: \"MoonModel\"\n",
            "_________________________________________________________________\n",
            "Layer (type)                 Output Shape              Param #   \n",
            "=================================================================\n",
            "input_10 (InputLayer)        (None, 18, 11, 4)         0         \n",
            "_________________________________________________________________\n",
            "conv3 (Conv2D)               (None, 16, 9, 64)         2368      \n",
            "_________________________________________________________________\n",
            "bn3 (BatchNormalization)     (None, 16, 9, 64)         256       \n",
            "_________________________________________________________________\n",
            "activation_35 (Activation)   (None, 16, 9, 64)         0         \n",
            "_________________________________________________________________\n",
            "conv2 (Conv2D)               (None, 16, 9, 1)          65        \n",
            "_________________________________________________________________\n",
            "bn2 (BatchNormalization)     (None, 16, 9, 1)          4         \n",
            "_________________________________________________________________\n",
            "activation_36 (Activation)   (None, 16, 9, 1)          0         \n",
            "_________________________________________________________________\n",
            "flatten_10 (Flatten)         (None, 144)               0         \n",
            "_________________________________________________________________\n",
            "fc (Dense)                   (None, 5)                 725       \n",
            "=================================================================\n",
            "Total params: 3,418\n",
            "Trainable params: 3,288\n",
            "Non-trainable params: 130\n",
            "_________________________________________________________________\n"
          ],
          "name": "stdout"
        }
      ]
    },
    {
      "cell_type": "code",
      "metadata": {
        "scrolled": false,
        "id": "aPVD0hapCG1o",
        "outputId": "916c076e-178e-425b-8cd6-34e3b7495175",
        "colab": {
          "base_uri": "https://localhost:8080/",
          "height": 657
        }
      },
      "source": [
        "# Example of a picture\n",
        "index = 844#randint(1,Y_test.shape[0])\n",
        "boulder = np.zeros((18,11))\n",
        "for i in range(18):\n",
        "    for j in range(11):\n",
        "        boulder[i][j] = X_test[index][i][j][0]\n",
        "plt.imshow(boulder,origin ='lower', extent=[1,11,1,18],aspect=0.80)\n",
        "\n",
        "wtf = boulder*3\n",
        "print(wtf)\n",
        "\"\"\"\n",
        "fig, ax = plt.subplots(1,1)\n",
        "img = ax.imshow(boulder,origin ='lower')\n",
        "x_label_list = ['A', 'B', 'C', 'D', 'E', 'F', 'G', 'H', 'I', 'J']\n",
        "ax.set_xticks([1,2,3,4,5,6,7,8,9,10,11,12,13,14,15,16,17,18])\n",
        "ax.set_xticklabels(x_label_list)\n",
        "fig.colorbar(img)\n",
        "\"\"\"\n",
        "\n",
        "print(\"Boulder num. \"+str(index)+\" and y = V\" + str(np.squeeze(np.argmax(Y_test[index]))))\n",
        "pred = moonModel.predict(np.array([X_test[index]]))\n",
        "print(\"IA prediction: V\"+str(np.argmax(pred)))\n",
        "print(\"Prediction table: \"+str(pred[0]))"
      ],
      "execution_count": null,
      "outputs": [
        {
          "output_type": "stream",
          "text": [
            "[[0. 0. 0. 0. 0. 0. 0. 0. 0. 0. 0.]\n",
            " [0. 0. 0. 0. 0. 1. 0. 0. 0. 0. 0.]\n",
            " [0. 0. 0. 0. 0. 0. 0. 0. 0. 0. 0.]\n",
            " [0. 1. 0. 0. 0. 0. 0. 0. 0. 0. 0.]\n",
            " [0. 0. 0. 0. 0. 0. 0. 0. 0. 0. 0.]\n",
            " [0. 0. 0. 0. 0. 0. 0. 0. 0. 0. 0.]\n",
            " [0. 0. 0. 0. 0. 0. 0. 2. 0. 0. 0.]\n",
            " [0. 0. 0. 2. 0. 0. 0. 0. 0. 0. 0.]\n",
            " [0. 2. 0. 0. 0. 0. 0. 0. 0. 0. 0.]\n",
            " [0. 0. 0. 0. 0. 0. 0. 0. 0. 0. 0.]\n",
            " [0. 0. 0. 0. 0. 0. 0. 0. 0. 0. 0.]\n",
            " [0. 0. 0. 0. 0. 2. 0. 0. 0. 0. 0.]\n",
            " [0. 0. 0. 0. 0. 0. 0. 0. 0. 0. 0.]\n",
            " [0. 0. 0. 0. 0. 0. 0. 0. 0. 0. 0.]\n",
            " [0. 0. 0. 0. 0. 0. 0. 2. 0. 0. 0.]\n",
            " [0. 0. 0. 0. 0. 2. 0. 0. 0. 0. 0.]\n",
            " [0. 0. 0. 0. 0. 0. 0. 0. 0. 0. 0.]\n",
            " [0. 0. 0. 0. 3. 0. 0. 0. 0. 0. 0.]]\n",
            "Boulder num. 844 and y = V0\n",
            "IA prediction: V4\n",
            "Prediction table: [5.2591931e-04 4.3000798e-03 3.5823733e-02 2.3542337e-01 7.2392684e-01]\n"
          ],
          "name": "stdout"
        },
        {
          "output_type": "display_data",
          "data": {
            "image/png": "[encoded data removed]",
            "text/plain": [
              "<Figure size 432x288 with 1 Axes>"
            ]
          },
          "metadata": {
            "tags": []
          }
        }
      ]
    },
    {
      "cell_type": "code",
      "metadata": {
        "scrolled": true,
        "id": "700BMc7BCG1t",
        "outputId": "2e2f0f78-32d3-435b-8020-6e949787b604"
      },
      "source": [
        "def Ratiopredict(X_test, Y_test):\n",
        "    Ratio = np.zeros(5)\n",
        "    Delta = np.zeros(5)\n",
        "    How = np.zeros((5,5))\n",
        "    WTF = []\n",
        "    for i in range(Y_test.shape[0]):\n",
        "        prediction = np.argmax(fullmoonModel.predict(np.array([X_test[i]])))\n",
        "        real = np.argmax(Y_test[i])\n",
        "        if prediction == real:\n",
        "            Ratio[np.argmax(Y_test[i])] +=1\n",
        "        Delta[np.abs(real-prediction)] +=1\n",
        "        if np.abs(real-prediction) == 4:\n",
        "            boulder = np.zeros((18,11))\n",
        "            for n in range(18):\n",
        "                for j in range(11):\n",
        "                    boulder[n][j] = X_test[i][n][j][0]\n",
        "            print(i)\n",
        "            WTF+=[boulder]\n",
        "        How[real][prediction] +=1\n",
        "    return (Ratio,Delta,How,WTF)\n",
        "Ratio = Ratiopredict(X_test, Y_test)\n",
        "print(\"Ratio: \"+str(Ratio[0]))\n",
        "print(\"Delta: \"+str(Ratio[1]))\n",
        "for i in range(5):\n",
        "    print(\"Répartion V\"+str(i)+\": \"+str(Ratio[2][i]))\n",
        "for i in range(len(Ratio[3])):\n",
        "    boulder = Ratio[3][i]\n",
        "    plt.imshow(boulder,origin ='lower', extent=[1,11,1,18],aspect=0.80)\n",
        "    plt.show()"
      ],
      "execution_count": null,
      "outputs": [
        {
          "output_type": "stream",
          "text": [
            "146\n",
            "276\n",
            "433\n",
            "646\n",
            "938\n",
            "940\n",
            "1896\n",
            "1987\n",
            "2282\n",
            "2490\n",
            "Ratio: [349. 133. 134. 169. 293.]\n",
            "Delta: [1078.  951.  385.   76.   10.]\n",
            "Répartion V0: [349.  87.  43.  15.   4.]\n",
            "Répartion V1: [160. 133.  99.  60.  10.]\n",
            "Répartion V2: [ 73. 114. 134. 117.  70.]\n",
            "Répartion V3: [ 35.  56. 111. 169. 145.]\n",
            "Répartion V4: [  6.  16.  83. 118. 293.]\n"
          ],
          "name": "stdout"
        },
        {
          "output_type": "display_data",
          "data": {
            "image/png": "[encoded data removed]",
            "text/plain": [
              "<Figure size 432x288 with 1 Axes>"
            ]
          },
          "metadata": {
            "tags": [],
            "needs_background": "light"
          }
        },
        {
          "output_type": "display_data",
          "data": {
            "image/png": "[encoded data removed]",
            "text/plain": [
              "<Figure size 432x288 with 1 Axes>"
            ]
          },
          "metadata": {
            "tags": [],
            "needs_background": "light"
          }
        },
        {
          "output_type": "display_data",
          "data": {
            "image/png": "[encoded data removed]",
            "text/plain": [
              "<Figure size 432x288 with 1 Axes>"
            ]
          },
          "metadata": {
            "tags": [],
            "needs_background": "light"
          }
        },
        {
          "output_type": "display_data",
          "data": {
            "image/png": "[encoded data removed]",
            "text/plain": [
              "<Figure size 432x288 with 1 Axes>"
            ]
          },
          "metadata": {
            "tags": [],
            "needs_background": "light"
          }
        },
        {
          "output_type": "display_data",
          "data": {
            "image/png": "[encoded data removed]",
            "text/plain": [
              "<Figure size 432x288 with 1 Axes>"
            ]
          },
          "metadata": {
            "tags": [],
            "needs_background": "light"
          }
        },
        {
          "output_type": "display_data",
          "data": {
            "image/png": "[encoded data removed]",
            "text/plain": [
              "<Figure size 432x288 with 1 Axes>"
            ]
          },
          "metadata": {
            "tags": [],
            "needs_background": "light"
          }
        },
        {
          "output_type": "display_data",
          "data": {
            "image/png": "[encoded data removed]",
            "text/plain": [
              "<Figure size 432x288 with 1 Axes>"
            ]
          },
          "metadata": {
            "tags": [],
            "needs_background": "light"
          }
        },
        {
          "output_type": "display_data",
          "data": {
            "image/png": "[encoded data removed]",
            "text/plain": [
              "<Figure size 432x288 with 1 Axes>"
            ]
          },
          "metadata": {
            "tags": [],
            "needs_background": "light"
          }
        },
        {
          "output_type": "display_data",
          "data": {
            "image/png": "[encoded data removed]",
            "text/plain": [
              "<Figure size 432x288 with 1 Axes>"
            ]
          },
          "metadata": {
            "tags": [],
            "needs_background": "light"
          }
        },
        {
          "output_type": "display_data",
          "data": {
            "image/png": "[encoded data removed]",
            "text/plain": [
              "<Figure size 432x288 with 1 Axes>"
            ]
          },
          "metadata": {
            "tags": [],
            "needs_background": "light"
          }
        }
      ]
    },
    {
      "cell_type": "code",
      "metadata": {
        "scrolled": false,
        "id": "9u0fcL9dCG1x",
        "outputId": "af86aa1d-72e9-4dc3-abb2-9aaf82ded7ec"
      },
      "source": [
        "i = 0\n",
        "for layer in fullmoonModel.layers:\n",
        "    weights = layer.get_weights() # list of numpy arrays\n",
        "    print(\"layer \"+str(i)+\"+ \"+str(weights))\n",
        "    i+=1"
      ],
      "execution_count": null,
      "outputs": [
        {
          "output_type": "stream",
          "text": [
            "layer 0+ []\n",
            "layer 1+ [array([[[[ 0.6891143 ],\n",
            "         [-1.1616155 ],\n",
            "         [ 0.31329113]]]], dtype=float32), array([0.10676739], dtype=float32)]\n",
            "layer 2+ [array([1.0607228], dtype=float32), array([0.50693566], dtype=float32), array([0.10247792], dtype=float32), array([0.00579638], dtype=float32)]\n",
            "layer 3+ []\n",
            "layer 4+ []\n",
            "layer 5+ [array([[ 0.16964228,  0.02350259,  0.12242583, ..., -0.09836903,\n",
            "         0.18554695,  0.28592998],\n",
            "       [ 0.26197314, -0.13906659, -0.08867616, ..., -0.00187392,\n",
            "         0.13170955, -0.01347587],\n",
            "       [ 0.13043723,  0.08117011,  0.20492032, ..., -0.0086288 ,\n",
            "         0.17239894,  0.23287292],\n",
            "       ...,\n",
            "       [-0.10534927, -0.14547138,  0.24925362, ..., -0.1580884 ,\n",
            "        -0.00096474, -0.19394359],\n",
            "       [-0.16302434,  0.00688083, -0.10844149, ..., -0.01288568,\n",
            "         0.11247648,  0.06623284],\n",
            "       [ 0.0116481 , -0.20456591, -0.25448436, ..., -0.13436279,\n",
            "         0.03356804,  0.33498228]], dtype=float32), array([-0.0258074 ,  0.11414712,  0.1077724 , -0.06046287,  0.07349639,\n",
            "       -0.09592022, -0.08901713,  0.03094932, -0.03218194,  0.09301742,\n",
            "        0.07243747, -0.12125298,  0.0874894 , -0.01450382, -0.10707707],\n",
            "      dtype=float32)]\n",
            "layer 6+ [array([[-0.29716313, -0.72215587,  0.2676691 ,  0.48325866,  0.26188537,\n",
            "        -0.5215811 ,  0.34971365,  0.21284229,  0.30495498,  0.5102361 ],\n",
            "       [ 0.04937002, -0.17123951,  0.07789981,  0.46619678, -0.4966889 ,\n",
            "         0.35550284,  0.5347873 ,  0.09812018, -0.40569338, -0.51391417],\n",
            "       [ 0.43166605,  0.5775635 ,  0.37233713,  0.39530283, -0.04813636,\n",
            "         0.35462835,  0.46425864, -0.02583079,  0.4110133 ,  0.4129357 ],\n",
            "       [-0.15689296, -0.06449393, -0.1126761 ,  0.06328901,  0.6168278 ,\n",
            "         0.02372456,  0.12341151, -0.00867818, -0.68476593,  0.60484713],\n",
            "       [-0.1394496 , -0.1364647 , -0.20154049,  0.50872564,  0.3131068 ,\n",
            "         0.44827214, -0.33912337,  0.21750793, -0.1317734 , -0.37710732],\n",
            "       [-0.4654793 ,  0.5415096 , -0.07058626, -0.3248825 ,  0.15866807,\n",
            "         0.16436721,  0.16595088,  0.36412263,  0.4505714 ,  0.01929538],\n",
            "       [-0.63276964, -0.571851  ,  0.18179646, -0.28577334, -0.13465647,\n",
            "         0.40230703,  0.4411627 ,  0.09027582, -0.20993342,  0.20201322],\n",
            "       [ 0.12321661, -0.38368624, -0.8841355 ,  0.2101899 , -0.23674008,\n",
            "         0.14223051,  0.18281084, -0.544011  ,  0.31983978, -0.34355083],\n",
            "       [-0.25592142, -0.09494258, -0.08421515, -0.59508955,  0.23220368,\n",
            "        -0.46019197,  0.5073604 ,  0.6433821 ,  0.20074908,  0.2388446 ],\n",
            "       [ 0.48598012,  0.5498699 , -1.0542105 ,  0.13555671, -0.45594466,\n",
            "        -0.27463076, -0.42333564, -0.00884233,  0.09714513, -0.07468281],\n",
            "       [ 0.3232299 , -0.3605653 , -0.4192536 ,  0.35687312, -0.5654952 ,\n",
            "        -0.29429927,  0.21735919, -0.02820009, -0.3124775 ,  0.2592792 ],\n",
            "       [-0.51936793, -0.3230408 ,  0.46486175, -0.5639487 , -0.3703251 ,\n",
            "        -0.15858305,  0.11805931,  0.11810743,  0.15098627,  0.4878768 ],\n",
            "       [-0.02364239, -0.28802767,  0.3626494 ,  0.32810503, -0.01299593,\n",
            "        -0.6248785 , -0.34765607, -0.21003681, -0.25628397, -0.64795125],\n",
            "       [ 0.2578185 ,  0.11062685, -0.066595  ,  0.38562647,  0.35592467,\n",
            "         0.34737125,  0.4414972 ,  0.4441861 ,  0.43079266,  0.4449906 ],\n",
            "       [-0.03695537, -0.15066297, -0.0065774 , -0.5877617 ,  0.3072778 ,\n",
            "         0.8431936 ,  0.32212907,  0.35287187, -0.21059674, -0.09618126]],\n",
            "      dtype=float32), array([ 0.23338562,  0.10920423, -0.02647921,  0.14053255, -0.09100929,\n",
            "       -0.0984735 , -0.12595096, -0.09456241, -0.09079547, -0.0967006 ],\n",
            "      dtype=float32)]\n",
            "layer 7+ [array([[-1.0781624 ,  0.2811297 , -0.419118  , -0.46589646, -0.36291215,\n",
            "         0.3741167 , -0.11398738,  0.17866944, -0.57670593, -0.26657623],\n",
            "       [ 0.10420024,  0.22115554, -0.62056375,  0.45143744, -0.45856073,\n",
            "         0.54701644, -0.10962237,  0.72267115, -0.552126  , -0.55560064],\n",
            "       [ 0.27136302, -0.80262697,  0.12723105,  0.5004529 ,  0.00298859,\n",
            "        -1.2128706 , -0.38889027,  0.30295518,  0.52486956, -0.2915725 ],\n",
            "       [-0.52710253,  0.3666024 , -0.31143895, -0.04031623, -0.5265575 ,\n",
            "         0.45131543,  0.25526422,  0.5305758 , -0.19738032, -0.39470962],\n",
            "       [ 0.53397924, -0.04502084, -0.17737843, -0.052161  , -0.6191358 ,\n",
            "        -0.00550372,  0.8276254 ,  0.39266655,  0.47153103,  0.5157268 ],\n",
            "       [ 0.06420987,  0.31937483,  0.08916199, -0.43358612,  0.20602618,\n",
            "        -0.4261487 , -0.00687987,  0.40376636,  0.68002903,  0.3876209 ],\n",
            "       [ 0.21154714,  0.58751905,  0.31535137, -0.63558465, -0.10412835,\n",
            "        -0.40458176,  0.57349324,  0.03101171,  0.449355  ,  0.29621443],\n",
            "       [ 0.46166945,  0.4069388 , -0.75679284,  0.14852482,  0.08810578,\n",
            "        -0.3018354 ,  0.24671388, -0.48946688,  0.11156616,  0.51673937],\n",
            "       [ 0.4272475 , -0.39636496, -0.24260494,  0.07113807,  0.41263673,\n",
            "         0.10084757, -0.2827665 , -0.12651177,  0.7037291 ,  0.93410355],\n",
            "       [-0.20980883, -0.35159594,  0.10679202, -0.42999312, -0.53679025,\n",
            "         0.30725464,  0.69901574, -0.58497465,  0.260063  , -0.06722228]],\n",
            "      dtype=float32), array([-0.12412629,  0.09604058,  0.00429241,  0.0059107 , -0.02530335,\n",
            "        0.0794446 , -0.05086342,  0.09822479, -0.0442249 , -0.13593554],\n",
            "      dtype=float32)]\n",
            "layer 8+ [array([[ 0.72644794, -0.4702799 ,  0.07243261,  0.5964266 , -0.6646846 ],\n",
            "       [ 0.0392438 ,  0.65018284, -0.44359753, -0.23052618,  0.61803174],\n",
            "       [-0.09481333, -0.7435037 , -0.80876297,  1.6071672 , -1.1171696 ],\n",
            "       [ 0.4836301 , -0.36753222,  0.50309414,  0.01295942, -0.42862886],\n",
            "       [-0.45014268, -0.40795425,  0.56922615, -0.58393514, -0.39309835],\n",
            "       [-0.64421743,  0.80901694,  0.21575639, -0.19954021, -0.12491907],\n",
            "       [-0.54736674,  0.48893628,  0.5027309 ,  0.32472047,  0.21253553],\n",
            "       [-0.59575665,  0.6659155 , -0.90350384, -0.36592606, -0.6051883 ],\n",
            "       [ 0.3212893 , -0.32278392, -0.64950866,  0.71445453, -0.03261594],\n",
            "       [-0.01040771, -0.52635187,  0.19647999,  0.2259829 ,  0.61888033]],\n",
            "      dtype=float32), array([ 0.23005046,  0.11533779, -0.0227999 , -0.01888819,  0.00144576],\n",
            "      dtype=float32)]\n",
            "layer 9+ [array([[ 0.52288055, -0.39712656,  0.796145  ,  0.06610274,  1.4478769 ],\n",
            "       [-0.8037689 , -0.5970193 , -0.3153963 ,  0.3021969 ,  0.38311848],\n",
            "       [-0.6863415 , -1.647922  ,  0.49253535,  0.70559347,  0.14853401],\n",
            "       [ 0.52830553,  0.2244661 , -0.19773236, -0.04405231, -1.3527223 ],\n",
            "       [-0.01526594,  0.5661264 ,  0.67208594, -0.5059629 ,  0.08276296]],\n",
            "      dtype=float32), array([-0.1086495 , -0.22813882,  0.29210982, -0.12672922,  0.23619425],\n",
            "      dtype=float32)]\n"
          ],
          "name": "stdout"
        }
      ]
    },
    {
      "cell_type": "code",
      "metadata": {
        "id": "rYfVbLl3CG10",
        "outputId": "8f6a5727-11ce-43a6-f036-77e0826f07f0"
      },
      "source": [],
      "execution_count": null,
      "outputs": [
        {
          "output_type": "execute_result",
          "data": {
            "text/plain": [
              "array([[[0.        , 0.        , 0.        ],\n",
              "        [0.        , 0.        , 0.        ],\n",
              "        [0.        , 0.        , 0.        ],\n",
              "        [0.33333333, 1.        , 0.625     ],\n",
              "        [0.        , 0.        , 0.        ],\n",
              "        [0.        , 0.        , 0.        ],\n",
              "        [0.        , 0.        , 0.        ],\n",
              "        [0.        , 0.        , 0.        ],\n",
              "        [0.        , 0.        , 0.        ],\n",
              "        [0.        , 0.        , 0.        ],\n",
              "        [0.        , 0.        , 0.        ]],\n",
              "\n",
              "       [[0.        , 0.        , 0.        ],\n",
              "        [0.        , 0.        , 0.        ],\n",
              "        [0.        , 0.        , 0.        ],\n",
              "        [0.        , 0.        , 0.        ],\n",
              "        [0.        , 0.        , 0.        ],\n",
              "        [0.        , 0.        , 0.        ],\n",
              "        [0.        , 0.        , 0.        ],\n",
              "        [0.        , 0.        , 0.        ],\n",
              "        [0.        , 0.        , 0.        ],\n",
              "        [0.        , 0.        , 0.        ],\n",
              "        [0.        , 0.        , 0.        ]],\n",
              "\n",
              "       [[0.        , 0.        , 0.        ],\n",
              "        [0.        , 0.        , 0.        ],\n",
              "        [0.        , 0.        , 0.        ],\n",
              "        [0.        , 0.        , 0.        ],\n",
              "        [0.        , 0.        , 0.        ],\n",
              "        [0.        , 0.        , 0.        ],\n",
              "        [0.        , 0.        , 0.        ],\n",
              "        [0.        , 0.        , 0.        ],\n",
              "        [0.        , 0.        , 0.        ],\n",
              "        [0.        , 0.        , 0.        ],\n",
              "        [0.        , 0.        , 0.        ]],\n",
              "\n",
              "       [[0.        , 0.        , 0.        ],\n",
              "        [0.        , 0.        , 0.        ],\n",
              "        [0.        , 0.        , 0.        ],\n",
              "        [0.        , 0.        , 0.        ],\n",
              "        [0.        , 0.        , 0.        ],\n",
              "        [0.        , 0.        , 0.        ],\n",
              "        [0.        , 0.        , 0.        ],\n",
              "        [0.        , 0.        , 0.        ],\n",
              "        [0.        , 0.        , 0.        ],\n",
              "        [0.        , 0.        , 0.        ],\n",
              "        [0.        , 0.        , 0.        ]],\n",
              "\n",
              "       [[0.        , 0.        , 0.        ],\n",
              "        [0.        , 0.        , 0.        ],\n",
              "        [0.        , 0.        , 0.        ],\n",
              "        [0.        , 0.        , 0.        ],\n",
              "        [0.        , 0.        , 0.        ],\n",
              "        [0.33333333, 0.16666667, 0.125     ],\n",
              "        [0.        , 0.        , 0.        ],\n",
              "        [0.        , 0.        , 0.        ],\n",
              "        [0.        , 0.        , 0.        ],\n",
              "        [0.        , 0.        , 0.        ],\n",
              "        [0.        , 0.        , 0.        ]],\n",
              "\n",
              "       [[0.        , 0.        , 0.        ],\n",
              "        [0.        , 0.        , 0.        ],\n",
              "        [0.        , 0.        , 0.        ],\n",
              "        [0.        , 0.        , 0.        ],\n",
              "        [0.        , 0.        , 0.        ],\n",
              "        [0.        , 0.        , 0.        ],\n",
              "        [0.        , 0.        , 0.        ],\n",
              "        [0.        , 0.        , 0.        ],\n",
              "        [0.        , 0.        , 0.        ],\n",
              "        [0.        , 0.        , 0.        ],\n",
              "        [0.        , 0.        , 0.        ]],\n",
              "\n",
              "       [[0.        , 0.        , 0.        ],\n",
              "        [0.        , 0.        , 0.        ],\n",
              "        [0.        , 0.        , 0.        ],\n",
              "        [0.        , 0.        , 0.        ],\n",
              "        [0.        , 0.        , 0.        ],\n",
              "        [0.        , 0.        , 0.        ],\n",
              "        [0.        , 0.        , 0.        ],\n",
              "        [0.        , 0.        , 0.        ],\n",
              "        [0.        , 0.        , 0.        ],\n",
              "        [0.        , 0.        , 0.        ],\n",
              "        [0.        , 0.        , 0.        ]],\n",
              "\n",
              "       [[0.        , 0.        , 0.        ],\n",
              "        [0.        , 0.        , 0.        ],\n",
              "        [0.        , 0.        , 0.        ],\n",
              "        [0.        , 0.        , 0.        ],\n",
              "        [0.        , 0.        , 0.        ],\n",
              "        [0.        , 0.        , 0.        ],\n",
              "        [0.        , 0.        , 0.        ],\n",
              "        [0.        , 0.        , 0.        ],\n",
              "        [0.        , 0.        , 0.        ],\n",
              "        [0.        , 0.        , 0.        ],\n",
              "        [0.        , 0.        , 0.        ]],\n",
              "\n",
              "       [[0.        , 0.        , 0.        ],\n",
              "        [0.        , 0.        , 0.        ],\n",
              "        [0.        , 0.        , 0.        ],\n",
              "        [0.        , 0.        , 0.        ],\n",
              "        [0.        , 0.        , 0.        ],\n",
              "        [0.        , 0.        , 0.        ],\n",
              "        [0.        , 0.        , 0.        ],\n",
              "        [0.        , 0.        , 0.        ],\n",
              "        [0.        , 0.        , 0.        ],\n",
              "        [0.        , 0.        , 0.        ],\n",
              "        [0.        , 0.        , 0.        ]],\n",
              "\n",
              "       [[0.        , 0.        , 0.        ],\n",
              "        [0.        , 0.        , 0.        ],\n",
              "        [0.66666667, 0.16666667, 0.125     ],\n",
              "        [0.        , 0.        , 0.        ],\n",
              "        [0.        , 0.        , 0.        ],\n",
              "        [0.        , 0.        , 0.        ],\n",
              "        [0.        , 0.        , 0.        ],\n",
              "        [0.        , 0.        , 0.        ],\n",
              "        [0.        , 0.        , 0.        ],\n",
              "        [0.        , 0.        , 0.        ],\n",
              "        [0.        , 0.        , 0.        ]],\n",
              "\n",
              "       [[0.        , 0.        , 0.        ],\n",
              "        [0.        , 0.        , 0.        ],\n",
              "        [0.        , 0.        , 0.        ],\n",
              "        [0.        , 0.        , 0.        ],\n",
              "        [0.        , 0.        , 0.        ],\n",
              "        [0.        , 0.        , 0.        ],\n",
              "        [0.        , 0.        , 0.        ],\n",
              "        [0.        , 0.        , 0.        ],\n",
              "        [0.        , 0.        , 0.        ],\n",
              "        [0.        , 0.        , 0.        ],\n",
              "        [0.        , 0.        , 0.        ]],\n",
              "\n",
              "       [[0.        , 0.        , 0.        ],\n",
              "        [0.        , 0.        , 0.        ],\n",
              "        [0.        , 0.        , 0.        ],\n",
              "        [0.        , 0.        , 0.        ],\n",
              "        [0.        , 0.        , 0.        ],\n",
              "        [0.        , 0.        , 0.        ],\n",
              "        [0.        , 0.        , 0.        ],\n",
              "        [0.        , 0.        , 0.        ],\n",
              "        [0.        , 0.        , 0.        ],\n",
              "        [0.        , 0.        , 0.        ],\n",
              "        [0.        , 0.        , 0.        ]],\n",
              "\n",
              "       [[0.        , 0.        , 0.        ],\n",
              "        [0.        , 0.        , 0.        ],\n",
              "        [0.66666667, 0.16666667, 1.        ],\n",
              "        [0.        , 0.        , 0.        ],\n",
              "        [0.        , 0.        , 0.        ],\n",
              "        [0.        , 0.        , 0.        ],\n",
              "        [0.        , 0.        , 0.        ],\n",
              "        [0.        , 0.        , 0.        ],\n",
              "        [0.        , 0.        , 0.        ],\n",
              "        [0.        , 0.        , 0.        ],\n",
              "        [0.        , 0.        , 0.        ]],\n",
              "\n",
              "       [[0.        , 0.        , 0.        ],\n",
              "        [0.        , 0.        , 0.        ],\n",
              "        [0.        , 0.        , 0.        ],\n",
              "        [0.        , 0.        , 0.        ],\n",
              "        [0.        , 0.        , 0.        ],\n",
              "        [0.        , 0.        , 0.        ],\n",
              "        [0.        , 0.        , 0.        ],\n",
              "        [0.        , 0.        , 0.        ],\n",
              "        [0.        , 0.        , 0.        ],\n",
              "        [0.        , 0.        , 0.        ],\n",
              "        [0.        , 0.        , 0.        ]],\n",
              "\n",
              "       [[0.66666667, 0.83333333, 0.125     ],\n",
              "        [0.        , 0.        , 0.        ],\n",
              "        [0.        , 0.        , 0.        ],\n",
              "        [0.        , 0.        , 0.        ],\n",
              "        [0.        , 0.        , 0.        ],\n",
              "        [0.        , 0.        , 0.        ],\n",
              "        [0.        , 0.        , 0.        ],\n",
              "        [0.        , 0.        , 0.        ],\n",
              "        [0.        , 0.        , 0.        ],\n",
              "        [0.        , 0.        , 0.        ],\n",
              "        [0.        , 0.        , 0.        ]],\n",
              "\n",
              "       [[0.        , 0.        , 0.        ],\n",
              "        [0.        , 0.        , 0.        ],\n",
              "        [0.        , 0.        , 0.        ],\n",
              "        [0.        , 0.        , 0.        ],\n",
              "        [0.        , 0.        , 0.        ],\n",
              "        [0.        , 0.        , 0.        ],\n",
              "        [0.        , 0.        , 0.        ],\n",
              "        [0.        , 0.        , 0.        ],\n",
              "        [0.        , 0.        , 0.        ],\n",
              "        [0.        , 0.        , 0.        ],\n",
              "        [0.        , 0.        , 0.        ]],\n",
              "\n",
              "       [[0.        , 0.        , 0.        ],\n",
              "        [0.        , 0.        , 0.        ],\n",
              "        [0.        , 0.        , 0.        ],\n",
              "        [0.        , 0.        , 0.        ],\n",
              "        [0.        , 0.        , 0.        ],\n",
              "        [0.        , 0.        , 0.        ],\n",
              "        [0.        , 0.        , 0.        ],\n",
              "        [0.        , 0.        , 0.        ],\n",
              "        [0.        , 0.        , 0.        ],\n",
              "        [0.        , 0.        , 0.        ],\n",
              "        [0.        , 0.        , 0.        ]],\n",
              "\n",
              "       [[1.        , 0.16666667, 1.        ],\n",
              "        [0.        , 0.        , 0.        ],\n",
              "        [0.        , 0.        , 0.        ],\n",
              "        [0.        , 0.        , 0.        ],\n",
              "        [0.        , 0.        , 0.        ],\n",
              "        [0.        , 0.        , 0.        ],\n",
              "        [0.        , 0.        , 0.        ],\n",
              "        [0.        , 0.        , 0.        ],\n",
              "        [0.        , 0.        , 0.        ],\n",
              "        [0.        , 0.        , 0.        ],\n",
              "        [0.        , 0.        , 0.        ]]])"
            ]
          },
          "metadata": {
            "tags": []
          },
          "execution_count": 36
        }
      ]
    },
    {
      "cell_type": "code",
      "metadata": {
        "id": "zZKQ4MVwCG12"
      },
      "source": [
        "model = FullMoonModel((18, 11, 3))\n",
        "data = np.zeros((1,18,11,3))\n",
        "data[0] = X_test[715]\n",
        "\n",
        "layer_name = 'conv0'\n",
        "intermediate_layer_model = Model(inputs=model.input,\n",
        "                                 outputs=model.get_layer(layer_name).output)\n",
        "intermediate_output = intermediate_layer_model.predict(data)"
      ],
      "execution_count": null,
      "outputs": []
    },
    {
      "cell_type": "code",
      "metadata": {
        "id": "PsPBJGKuCG15",
        "outputId": "c3705740-7297-450f-df6b-0f40a6312bb3"
      },
      "source": [
        "intermediate_output.shape\n",
        "\n",
        "# Example of a picture\n",
        "index = 937#randint(1,Y_test.shape[0])\n",
        "\n",
        "model = FullMoonModel((18, 11, 3))\n",
        "data = np.zeros((1,18,11,3))\n",
        "data[0] = X_test[index]\n",
        "\n",
        "layer_name = 'conv0'\n",
        "intermediate_layer_model = Model(inputs=model.input,\n",
        "                                 outputs=model.get_layer(layer_name).output)\n",
        "intermediate_output = intermediate_layer_model.predict(data)\n",
        "\n",
        "boulder = np.zeros((18,11))\n",
        "for i in range(18):\n",
        "    for j in range(11):\n",
        "        boulder[i][j] = intermediate_output[0][i][j][0]\n",
        "plt.imshow(boulder,origin ='lower', extent=[1,11,1,18],aspect=0.80)\n",
        "\n",
        "wtf = boulder*3\n",
        "print(wtf)\n",
        "\"\"\"\n",
        "fig, ax = plt.subplots(1,1)\n",
        "img = ax.imshow(boulder,origin ='lower')\n",
        "x_label_list = ['A', 'B', 'C', 'D', 'E', 'F', 'G', 'H', 'I', 'J']\n",
        "ax.set_xticks([1,2,3,4,5,6,7,8,9,10,11,12,13,14,15,16,17,18])\n",
        "ax.set_xticklabels(x_label_list)\n",
        "fig.colorbar(img)\n",
        "\"\"\"\n",
        "\n",
        "print(\"Boulder num. \"+str(index)+\" and y = V\" + str(np.squeeze(np.argmax(Y_test[index]))))\n",
        "pred = fullmoonModel.predict(np.array([X_test[index]]))\n",
        "print(\"IA prediction: V\"+str(np.argmax(pred)))\n",
        "print(\"Prediction table: \"+str(pred[0]))"
      ],
      "execution_count": null,
      "outputs": [
        {
          "output_type": "stream",
          "text": [
            "[[ 0.          0.          0.          0.          0.          0.\n",
            "   0.          0.          0.          0.          0.        ]\n",
            " [ 0.          0.          0.          0.          0.          0.\n",
            "  -1.06810954  0.          0.          0.          0.        ]\n",
            " [ 0.          0.07615292  0.          0.          0.          0.\n",
            "   0.          0.          0.          0.          0.        ]\n",
            " [ 0.          0.          0.          0.          0.          0.\n",
            "   0.          0.          0.          0.         -0.31284964]\n",
            " [ 0.          0.          0.          0.          0.          0.\n",
            "   0.          0.          0.          0.          0.        ]\n",
            " [ 0.          0.          0.          0.          0.          0.\n",
            "   0.          0.          0.          0.          0.        ]\n",
            " [ 0.          0.          0.          0.          0.          0.\n",
            "   0.          0.          0.          0.          0.        ]\n",
            " [ 0.          0.          0.          0.94609407  0.          0.\n",
            "   0.          1.12204868  0.          0.          0.        ]\n",
            " [ 0.          0.          0.          0.          0.          0.\n",
            "   0.          0.          0.          0.          0.        ]\n",
            " [ 0.          0.          0.         -0.50511879  0.          0.\n",
            "   0.          0.          1.00540119  0.          0.        ]\n",
            " [ 0.          0.          0.          0.          0.          0.\n",
            "   0.          0.          0.          0.          0.        ]\n",
            " [ 1.41268453  0.          0.          0.          0.          0.\n",
            "   0.          0.          0.          0.          0.        ]\n",
            " [ 0.          0.          0.          0.          0.          0.\n",
            "   0.          0.          0.          0.          0.        ]\n",
            " [ 0.          0.         -0.62176645  0.          0.          0.\n",
            "   0.          0.          0.          0.          0.        ]\n",
            " [ 0.          0.          0.          0.          0.          0.\n",
            "   0.          0.          0.          0.          0.        ]\n",
            " [ 0.          0.          1.23869634  0.          0.          0.\n",
            "   0.          0.          0.          0.          0.        ]\n",
            " [ 0.          0.          0.          0.          0.          0.\n",
            "   0.          0.          0.          0.          0.        ]\n",
            " [ 0.          0.          0.          0.          2.38099229  0.\n",
            "   0.          0.          0.          0.          0.        ]]\n",
            "Boulder num. 937 and y = V4\n",
            "IA prediction: V0\n",
            "Prediction table: [0.3600629  0.31720057 0.17354473 0.12981862 0.01937316]\n"
          ],
          "name": "stdout"
        },
        {
          "output_type": "display_data",
          "data": {
            "image/png": "[encoded data removed]",
            "text/plain": [
              "<Figure size 432x288 with 1 Axes>"
            ]
          },
          "metadata": {
            "tags": [],
            "needs_background": "light"
          }
        }
      ]
    },
    {
      "cell_type": "code",
      "metadata": {
        "id": "o35kMXBeCG18",
        "outputId": "bb1875ca-092c-47e6-9387-071393fe3a32"
      },
      "source": [
        "# Example of a picture\n",
        "index = 937#randint(1,Y_test.shape[0])\n",
        "boulder = np.zeros((18,11))\n",
        "for i in range(18):\n",
        "    for j in range(11):\n",
        "        boulder[i][j] = X_test[index][i][j][1]\n",
        "plt.imshow(boulder,origin ='lower', extent=[1,11,1,18],aspect=0.80)\n",
        "\n",
        "wtf = boulder*3\n",
        "print(wtf)\n",
        "\"\"\"\n",
        "fig, ax = plt.subplots(1,1)\n",
        "img = ax.imshow(boulder,origin ='lower')\n",
        "x_label_list = ['A', 'B', 'C', 'D', 'E', 'F', 'G', 'H', 'I', 'J']\n",
        "ax.set_xticks([1,2,3,4,5,6,7,8,9,10,11,12,13,14,15,16,17,18])\n",
        "ax.set_xticklabels(x_label_list)\n",
        "fig.colorbar(img)\n",
        "\"\"\"\n",
        "\n",
        "print(\"Boulder num. \"+str(index)+\" and y = V\" + str(np.squeeze(np.argmax(Y_test[index]))))\n",
        "pred = fullmoonModel.predict(np.array([X_test[index]]))\n",
        "print(\"IA prediction: V\"+str(np.argmax(pred)))\n",
        "print(\"Prediction table: \"+str(pred[0]))"
      ],
      "execution_count": null,
      "outputs": [
        {
          "output_type": "stream",
          "text": [
            "[[0.  0.  0.  0.  0.  0.  0.  0.  0.  0.  0. ]\n",
            " [0.  0.  0.  0.  0.  0.  2.5 0.  0.  0.  0. ]\n",
            " [0.  0.5 0.  0.  0.  0.  0.  0.  0.  0.  0. ]\n",
            " [0.  0.  0.  0.  0.  0.  0.  0.  0.  0.  3. ]\n",
            " [0.  0.  0.  0.  0.  0.  0.  0.  0.  0.  0. ]\n",
            " [0.  0.  0.  0.  0.  0.  0.  0.  0.  0.  0. ]\n",
            " [0.  0.  0.  0.  0.  0.  0.  0.  0.  0.  0. ]\n",
            " [0.  0.  0.  3.  0.  0.  0.  1.  0.  0.  0. ]\n",
            " [0.  0.  0.  0.  0.  0.  0.  0.  0.  0.  0. ]\n",
            " [0.  0.  0.  0.5 0.  0.  0.  0.  1.5 0.  0. ]\n",
            " [0.  0.  0.  0.  0.  0.  0.  0.  0.  0.  0. ]\n",
            " [1.  0.  0.  0.  0.  0.  0.  0.  0.  0.  0. ]\n",
            " [0.  0.  0.  0.  0.  0.  0.  0.  0.  0.  0. ]\n",
            " [0.  0.  1.  0.  0.  0.  0.  0.  0.  0.  0. ]\n",
            " [0.  0.  0.  0.  0.  0.  0.  0.  0.  0.  0. ]\n",
            " [0.  0.  0.5 0.  0.  0.  0.  0.  0.  0.  0. ]\n",
            " [0.  0.  0.  0.  0.  0.  0.  0.  0.  0.  0. ]\n",
            " [0.  0.  0.  0.  1.  0.  0.  0.  0.  0.  0. ]]\n",
            "Boulder num. 937 and y = V4\n",
            "IA prediction: V0\n",
            "Prediction table: [0.3600629  0.31720057 0.17354473 0.12981862 0.01937316]\n"
          ],
          "name": "stdout"
        },
        {
          "output_type": "display_data",
          "data": {
            "image/png": "[encoded data removed]",
            "text/plain": [
              "<Figure size 432x288 with 1 Axes>"
            ]
          },
          "metadata": {
            "tags": [],
            "needs_background": "light"
          }
        }
      ]
    },
    {
      "cell_type": "code",
      "metadata": {
        "id": "aAktiAcVCG1-",
        "outputId": "e29ec6ec-643a-47dd-942d-ad339fc10c5e"
      },
      "source": [
        "# Example of a picture\n",
        "index = 937#randint(1,Y_test.shape[0])\n",
        "boulder = np.zeros((18,11))\n",
        "for i in range(18):\n",
        "    for j in range(11):\n",
        "        boulder[i][j] = X_test[index][i][j][2]\n",
        "plt.imshow(boulder,origin ='lower', extent=[1,11,1,18],aspect=0.80)\n",
        "\n",
        "wtf = boulder*3\n",
        "print(wtf)\n",
        "\"\"\"\n",
        "fig, ax = plt.subplots(1,1)\n",
        "img = ax.imshow(boulder,origin ='lower')\n",
        "x_label_list = ['A', 'B', 'C', 'D', 'E', 'F', 'G', 'H', 'I', 'J']\n",
        "ax.set_xticks([1,2,3,4,5,6,7,8,9,10,11,12,13,14,15,16,17,18])\n",
        "ax.set_xticklabels(x_label_list)\n",
        "fig.colorbar(img)\n",
        "\"\"\"\n",
        "\n",
        "print(\"Boulder num. \"+str(index)+\" and y = V\" + str(np.squeeze(np.argmax(Y_test[index]))))\n",
        "pred = fullmoonModel.predict(np.array([X_test[index]]))\n",
        "print(\"IA prediction: V\"+str(np.argmax(pred)))\n",
        "print(\"Prediction table: \"+str(pred[0]))"
      ],
      "execution_count": null,
      "outputs": [
        {
          "output_type": "stream",
          "text": [
            "[[0.    0.    0.    0.    0.    0.    0.    0.    0.    0.    0.   ]\n",
            " [0.    0.    0.    0.    0.    0.    1.875 0.    0.    0.    0.   ]\n",
            " [0.    2.25  0.    0.    0.    0.    0.    0.    0.    0.    0.   ]\n",
            " [0.    0.    0.    0.    0.    0.    0.    0.    0.    0.    0.75 ]\n",
            " [0.    0.    0.    0.    0.    0.    0.    0.    0.    0.    0.   ]\n",
            " [0.    0.    0.    0.    0.    0.    0.    0.    0.    0.    0.   ]\n",
            " [0.    0.    0.    0.    0.    0.    0.    0.    0.    0.    0.   ]\n",
            " [0.    0.    0.    0.375 0.    0.    0.    0.75  0.    0.    0.   ]\n",
            " [0.    0.    0.    0.    0.    0.    0.    0.    0.    0.    0.   ]\n",
            " [0.    0.    0.    3.    0.    0.    0.    0.    0.75  0.    0.   ]\n",
            " [0.    0.    0.    0.    0.    0.    0.    0.    0.    0.    0.   ]\n",
            " [0.375 0.    0.    0.    0.    0.    0.    0.    0.    0.    0.   ]\n",
            " [0.    0.    0.    0.    0.    0.    0.    0.    0.    0.    0.   ]\n",
            " [0.    0.    3.    0.    0.    0.    0.    0.    0.    0.    0.   ]\n",
            " [0.    0.    0.    0.    0.    0.    0.    0.    0.    0.    0.   ]\n",
            " [0.    0.    0.75  0.    0.    0.    0.    0.    0.    0.    0.   ]\n",
            " [0.    0.    0.    0.    0.    0.    0.    0.    0.    0.    0.   ]\n",
            " [0.    0.    0.    0.    0.375 0.    0.    0.    0.    0.    0.   ]]\n",
            "Boulder num. 937 and y = V4\n",
            "IA prediction: V0\n",
            "Prediction table: [0.3600629  0.31720057 0.17354473 0.12981862 0.01937316]\n"
          ],
          "name": "stdout"
        },
        {
          "output_type": "display_data",
          "data": {
            "image/png": "[encoded data removed]",
            "text/plain": [
              "<Figure size 432x288 with 1 Axes>"
            ]
          },
          "metadata": {
            "tags": [],
            "needs_background": "light"
          }
        }
      ]
    },
    {
      "cell_type": "code",
      "metadata": {
        "id": "Dd7rre9vCG2A",
        "outputId": "8ca3be9f-3944-4035-9860-a7d23907e8c5",
        "colab": {
          "base_uri": "https://localhost:8080/",
          "height": 1000
        }
      },
      "source": [
        "def Ratiopredict(X_test, Y_test):\n",
        "    Ratio = np.zeros(5)\n",
        "    Delta = np.zeros(5)\n",
        "    How = np.zeros((5,5))\n",
        "    WTF = []\n",
        "    for i in range(Y_test.shape[0]):\n",
        "        prediction = np.argmax(moonModel.predict(np.array([X_test[i]])))\n",
        "        real = np.argmax(Y_test[i])\n",
        "        if prediction == real:\n",
        "            Ratio[np.argmax(Y_test[i])] +=1\n",
        "        Delta[np.abs(real-prediction)] +=1\n",
        "        if np.abs(real-prediction) == 4:\n",
        "            boulder = np.zeros((18,11))\n",
        "            for n in range(18):\n",
        "                for j in range(11):\n",
        "                    boulder[n][j] = X_test[i][n][j][0]\n",
        "            print(i)\n",
        "            WTF+=[boulder]\n",
        "        How[real][prediction] +=1\n",
        "    return (Ratio,Delta,How,WTF)\n",
        "Ratio = Ratiopredict(X_test, Y_test)\n",
        "print(\"Ratio: \"+str(Ratio[0]))\n",
        "print(\"Delta: \"+str(Ratio[1]))\n",
        "for i in range(5):\n",
        "    print(\"Répartion V\"+str(i)+\": \"+str(Ratio[2][i]))\n",
        "for i in range(len(Ratio[3])):\n",
        "    boulder = Ratio[3][i]\n",
        "    plt.imshow(boulder,origin ='lower', extent=[1,11,1,18],aspect=0.80)\n",
        "    plt.show()"
      ],
      "execution_count": null,
      "outputs": [
        {
          "output_type": "stream",
          "text": [
            "13\n",
            "267\n",
            "382\n",
            "564\n",
            "1188\n",
            "1746\n",
            "2153\n",
            "2267\n",
            "2382\n",
            "3746\n",
            "Ratio: [581. 229. 363. 251. 507.]\n",
            "Delta: [1931. 1520.  473.   66.   10.]\n",
            "Répartion V0: [581. 125.  93.  23.   8.]\n",
            "Répartion V1: [233. 229. 218.  48.  16.]\n",
            "Répartion V2: [ 77. 145. 363. 153.  80.]\n",
            "Répartion V3: [ 17.  74. 233. 251. 247.]\n",
            "Répartion V4: [  2.  10. 101. 166. 507.]\n"
          ],
          "name": "stdout"
        },
        {
          "output_type": "display_data",
          "data": {
            "image/png": "[encoded data removed]",
            "text/plain": [
              "<Figure size 432x288 with 1 Axes>"
            ]
          },
          "metadata": {
            "tags": []
          }
        },
        {
          "output_type": "display_data",
          "data": {
            "image/png": "[encoded data removed]",
            "text/plain": [
              "<Figure size 432x288 with 1 Axes>"
            ]
          },
          "metadata": {
            "tags": []
          }
        },
        {
          "output_type": "display_data",
          "data": {
            "image/png": "[encoded data removed]",
            "text/plain": [
              "<Figure size 432x288 with 1 Axes>"
            ]
          },
          "metadata": {
            "tags": []
          }
        },
        {
          "output_type": "display_data",
          "data": {
            "image/png": "[encoded data removed]",
            "text/plain": [
              "<Figure size 432x288 with 1 Axes>"
            ]
          },
          "metadata": {
            "tags": []
          }
        },
        {
          "output_type": "display_data",
          "data": {
            "image/png": "[encoded data removed]",
            "text/plain": [
              "<Figure size 432x288 with 1 Axes>"
            ]
          },
          "metadata": {
            "tags": []
          }
        },
        {
          "output_type": "display_data",
          "data": {
            "image/png": "[encoded data removed]",
            "text/plain": [
              "<Figure size 432x288 with 1 Axes>"
            ]
          },
          "metadata": {
            "tags": []
          }
        },
        {
          "output_type": "display_data",
          "data": {
            "image/png": "[encoded data removed]",
            "text/plain": [
              "<Figure size 432x288 with 1 Axes>"
            ]
          },
          "metadata": {
            "tags": []
          }
        },
        {
          "output_type": "display_data",
          "data": {
            "image/png": "[encoded data removed]",
            "text/plain": [
              "<Figure size 432x288 with 1 Axes>"
            ]
          },
          "metadata": {
            "tags": []
          }
        },
        {
          "output_type": "display_data",
          "data": {
            "image/png": "[encoded data removed]",
            "text/plain": [
              "<Figure size 432x288 with 1 Axes>"
            ]
          },
          "metadata": {
            "tags": []
          }
        },
        {
          "output_type": "display_data",
          "data": {
            "image/png": "[encoded data removed]",
            "text/plain": [
              "<Figure size 432x288 with 1 Axes>"
            ]
          },
          "metadata": {
            "tags": []
          }
        }
      ]
    }
  ]
}